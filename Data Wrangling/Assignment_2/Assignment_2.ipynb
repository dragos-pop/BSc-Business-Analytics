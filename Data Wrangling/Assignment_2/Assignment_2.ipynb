{
 "cells": [
  {
   "cell_type": "markdown",
   "metadata": {},
   "source": [
    "# Assignment 2"
   ]
  },
  {
   "cell_type": "code",
   "execution_count": 1,
   "metadata": {
    "deletable": false,
    "editable": false,
    "nbgrader": {
     "checksum": "40179ae9ed46a9e8640838d53bfaa7ad",
     "grade": false,
     "grade_id": "libraries",
     "locked": true,
     "schema_version": 1,
     "solution": false
    }
   },
   "outputs": [],
   "source": [
    "# read neccessary libraries\n",
    "import numpy as np\n",
    "import pandas as pd\n",
    "import matplotlib.pyplot as plt\n",
    "pd.options.display.max_rows = 20\n",
    "np.set_printoptions(precision = 4, suppress = True)"
   ]
  },
  {
   "cell_type": "markdown",
   "metadata": {},
   "source": [
    "### Customer database\n",
    "Given is a table *orders* with product orders, and a table *customers* with customer info. Merge the two tables together such that the remaining table only has orders for which customer info is available. Assign the final table to the variable *sales*."
   ]
  },
  {
   "cell_type": "code",
   "execution_count": 2,
   "metadata": {
    "deletable": false,
    "nbgrader": {
     "checksum": "4adbd7dae3f52f87b0904ba325bafdd3",
     "grade": false,
     "grade_id": "customers",
     "locked": false,
     "schema_version": 1,
     "solution": true
    }
   },
   "outputs": [
    {
     "name": "stdout",
     "output_type": "stream",
     "text": [
      "   ID   First       Last        City  OrderID  CustID  Amount\n",
      "0   1    Henk    Janssen   Amsterdam        1       1   23.20\n",
      "1   1    Henk    Janssen   Amsterdam        5       1    6.12\n",
      "2   3  Sjoerd  Vermeulen  Maastricht        3       3   12.93\n",
      "3   4   Mieke      Sterk   Amsterdam        2       4    2.30\n",
      "4   4   Mieke      Sterk   Amsterdam        4       4   54.92\n",
      "5   4   Mieke      Sterk   Amsterdam        6       4    9.60\n"
     ]
    }
   ],
   "source": [
    "orders = pd.DataFrame({'OrderID' : [1, 2, 3, 4, 5, 6, 7],\n",
    "                       'CustID' : [1, 4, 3, 4, 1, 4, 5], \n",
    "                       'Amount' : [23.20, 2.30, 12.93, 54.92, 6.12, 9.60, 70.56]})\n",
    "\n",
    "customers = pd.DataFrame({'ID' : [1, 2, 3, 4, 6], \n",
    "                          'First' : [\"Henk\", \"Petra\", \"Sjoerd\", \"Mieke\", \"Sandjai\"], \n",
    "                          'Last' : [\"Janssen\", \"de Klomp\", \"Vermeulen\", \"Sterk\", \"Bhulai\"],\n",
    "                          'City' : [\"Amsterdam\", \"Nijmegen\", \"Maastricht\", \"Amsterdam\", \"Diemen\"]})\n",
    "\n",
    "# YOUR CODE HERE\n",
    "sales = pd.merge(customers, orders, left_on='ID', right_on='CustID')\n",
    "print(sales)\n",
    "# YOUR CODE ENDS HERE"
   ]
  },
  {
   "cell_type": "code",
   "execution_count": null,
   "metadata": {
    "deletable": false,
    "editable": false,
    "nbgrader": {
     "checksum": "b809c7d9914fabbc1a526910a00d765d",
     "grade": true,
     "grade_id": "customers_correct",
     "locked": true,
     "points": 1,
     "schema_version": 1,
     "solution": false
    }
   },
   "outputs": [],
   "source": []
  },
  {
   "cell_type": "markdown",
   "metadata": {},
   "source": [
    "The customer ID of \"Sandjai Bhulai\" is wrong. It should be 5 instead of 6. Correct the ID and calculate the sum of the sales values for each city. Assign the resulting table with only the total amount of sales to the variable *sales_per_city*."
   ]
  },
  {
   "cell_type": "code",
   "execution_count": 3,
   "metadata": {
    "deletable": false,
    "nbgrader": {
     "checksum": "9ca632050d69bb5abfb77c906ba0ab5e",
     "grade": false,
     "grade_id": "sales_per_city",
     "locked": false,
     "schema_version": 1,
     "solution": true
    }
   },
   "outputs": [
    {
     "name": "stdout",
     "output_type": "stream",
     "text": [
      "City\n",
      "Amsterdam     96.14\n",
      "Diemen        70.56\n",
      "Maastricht    12.93\n",
      "Name: Amount, dtype: float64\n"
     ]
    }
   ],
   "source": [
    "# YOUR CODE HERE\n",
    "customers.loc[(customers['First'] == 'Sandjai') & (customers['Last'] == 'Bhulai'), 'ID'] = 5\n",
    "sales = pd.merge(customers, orders, left_on='ID', right_on='CustID')\n",
    "sales_per_city = sales.groupby(by='City')['Amount'].sum()\n",
    "\n",
    "print(sales_per_city)\n",
    "# YOUR CODE ENDS HERE"
   ]
  },
  {
   "cell_type": "code",
   "execution_count": null,
   "metadata": {
    "deletable": false,
    "editable": false,
    "nbgrader": {
     "checksum": "21901948c65174cdac24aec503d333a6",
     "grade": true,
     "grade_id": "sales_per_city-correct",
     "locked": true,
     "points": 1,
     "schema_version": 1,
     "solution": false
    }
   },
   "outputs": [],
   "source": []
  },
  {
   "cell_type": "markdown",
   "metadata": {},
   "source": [
    "From the *sales* dataframe, create a new dataframe with as first column the first name (*First*) and the second column the sales amount (*Amount*). Assign this to the variable *new_sales*. Then calculate the total sales amount per person and assign that to the variable *person*. Create a bar plot of the resulting dataframe."
   ]
  },
  {
   "cell_type": "code",
   "execution_count": 4,
   "metadata": {
    "deletable": false,
    "nbgrader": {
     "checksum": "ee4662677443d7778662dad638dff5a3",
     "grade": false,
     "grade_id": "graph",
     "locked": false,
     "schema_version": 1,
     "solution": true
    }
   },
   "outputs": [
    {
     "name": "stdout",
     "output_type": "stream",
     "text": [
      "     First  Amount\n",
      "0     Henk   23.20\n",
      "1     Henk    6.12\n",
      "2   Sjoerd   12.93\n",
      "3    Mieke    2.30\n",
      "4    Mieke   54.92\n",
      "5    Mieke    9.60\n",
      "6  Sandjai   70.56\n",
      "\n",
      "         Amount\n",
      "First          \n",
      "Henk      29.32\n",
      "Mieke     66.82\n",
      "Sandjai   70.56\n",
      "Sjoerd    12.93\n"
     ]
    },
    {
     "data": {
      "image/png": "[encoded data removed]",
      "text/plain": [
       "<Figure size 432x288 with 1 Axes>"
      ]
     },
     "metadata": {
      "needs_background": "light"
     },
     "output_type": "display_data"
    }
   ],
   "source": [
    "# YOUR CODE HERE\n",
    "new_sales = sales[['First', 'Amount']]\n",
    "person = new_sales.groupby(by='First').sum()\n",
    "print(new_sales)\n",
    "print()\n",
    "print(person)\n",
    "bar_plot = person.plot.bar(title = 'Total sales amount per person', legend=False)\n",
    "bar_plot.set_ylabel('Amount');\n",
    "# YOUR CODE ENDS HERE"
   ]
  },
  {
   "cell_type": "code",
   "execution_count": null,
   "metadata": {
    "deletable": false,
    "editable": false,
    "nbgrader": {
     "checksum": "cc303f1439976330502ae3946b5aca6e",
     "grade": true,
     "grade_id": "graph-correct",
     "locked": true,
     "points": 1,
     "schema_version": 1,
     "solution": false
    }
   },
   "outputs": [],
   "source": []
  },
  {
   "cell_type": "markdown",
   "metadata": {},
   "source": [
    "### Course grades\n",
    "The text that is listed below misses a separator between the courses and the grades. Create a regular expression to extract all the grades from the text and assign that value to the variable *avg_grade*. Note that you may have to cast the number (that are represented as strings) to floating point numbers."
   ]
  },
  {
   "cell_type": "code",
   "execution_count": 5,
   "metadata": {
    "deletable": false,
    "nbgrader": {
     "checksum": "b382fd397640b8ab7becb68b5c4758ef",
     "grade": false,
     "grade_id": "grade",
     "locked": false,
     "schema_version": 1,
     "solution": true
    }
   },
   "outputs": [
    {
     "name": "stdout",
     "output_type": "stream",
     "text": [
      "8.25\n"
     ]
    }
   ],
   "source": [
    "import re\n",
    "text = \"\"\"Data_wrangling8.5\n",
    "Machine_learning9.0\n",
    "Advanced_machine_learning8.0\n",
    "Reinforcement_learning7.5\n",
    "\"\"\"\n",
    "\n",
    "# YOUR CODE HERE\n",
    "pattern = r'\\d+\\.\\d+'\n",
    "# YOUR CODE ENDS HERE\n",
    "\n",
    "regex = re.compile(pattern, flags=re.IGNORECASE)\n",
    "result = regex.findall(text)\n",
    "\n",
    "# YOUR CODE HERE\n",
    "avg_grade = sum([float(i)for i in result])/len(result)\n",
    "print(avg_grade)\n",
    "# YOUR CODE ENDS HERE"
   ]
  },
  {
   "cell_type": "code",
   "execution_count": null,
   "metadata": {
    "deletable": false,
    "editable": false,
    "nbgrader": {
     "checksum": "a855f69b0cb9426913a1a14c46e8b48d",
     "grade": true,
     "grade_id": "grade-correct",
     "locked": true,
     "points": 1,
     "schema_version": 1,
     "solution": false
    }
   },
   "outputs": [],
   "source": []
  },
  {
   "cell_type": "markdown",
   "metadata": {},
   "source": [
    "### E-mail\n",
    "Consider the following excerpt from an email. Write a regular expression that extracts the sender, recipient and the subject from the email."
   ]
  },
  {
   "cell_type": "code",
   "execution_count": 6,
   "metadata": {
    "deletable": false,
    "nbgrader": {
     "checksum": "46fa64dd343892fc6c4aeaa204f246a7",
     "grade": false,
     "grade_id": "email",
     "locked": false,
     "schema_version": 1,
     "solution": true
    }
   },
   "outputs": [
    {
     "name": "stdout",
     "output_type": "stream",
     "text": [
      "Sandjai says \"well done!\" to the students following data wrangling\n"
     ]
    }
   ],
   "source": [
    "import re\n",
    "text = \"\"\"From: Sandjai\n",
    "To: the students following data wrangling\n",
    "Subject: well done!\n",
    "Body: I congratulate you all with mastering regular expressions.\n",
    "It is a tough subject to learn. Good job.\n",
    "\"\"\"\n",
    "\n",
    "# YOUR CODE HERE\n",
    "pattern = r'From: ([\\w\\s]+)\\nTo: ([\\w\\s]+)\\nSubject: ([\\w\\s _.,!?\\$]+)\\n' \n",
    "# YOUR CODE ENDS HERE\n",
    "\n",
    "regex = re.compile(pattern, flags=re.IGNORECASE)\n",
    "result = regex.match(text).groups()\n",
    "\n",
    "print('{} says \"{}\" to {}'.format(result[0], result[2], result[1]))"
   ]
  },
  {
   "cell_type": "code",
   "execution_count": null,
   "metadata": {
    "deletable": false,
    "editable": false,
    "nbgrader": {
     "checksum": "cba982c8bb08326fcb026e65f0916a8f",
     "grade": true,
     "grade_id": "email-correct",
     "locked": true,
     "points": 1,
     "schema_version": 1,
     "solution": false
    }
   },
   "outputs": [],
   "source": []
  },
  {
   "cell_type": "markdown",
   "metadata": {},
   "source": [
    "### Orange juice\n",
    "The file below contains sales data on three brands of orange juice over different weeks over different stores. Find out which store number has the highest and lowest mean income (using the variable *INCOME*). Assign the store numbers to the variables *max_store* and *min_store*, respectively.\n"
   ]
  },
  {
   "cell_type": "code",
   "execution_count": 7,
   "metadata": {
    "deletable": false,
    "nbgrader": {
     "checksum": "32be4c94792b5ac5288c3b664dae382f",
     "grade": false,
     "grade_id": "best-stores",
     "locked": false,
     "schema_version": 1,
     "solution": true
    }
   },
   "outputs": [
    {
     "name": "stdout",
     "output_type": "stream",
     "text": [
      "The store with the highest mean income:  62\n",
      "The store with the lowest mean income:  75\n"
     ]
    }
   ],
   "source": [
    "oj = pd.read_csv('oj.csv')\n",
    "\n",
    "# YOUR CODE HERE\n",
    "groups_income = oj.groupby(by='store')['INCOME'].mean()\n",
    "\n",
    "max_store = groups_income.idxmax()\n",
    "print(\"The store with the highest mean income: \", max_store)\n",
    "min_store = groups_income.idxmin()\n",
    "print(\"The store with the lowest mean income: \", min_store)\n",
    "# YOUR CODE ENDS HERE"
   ]
  },
  {
   "cell_type": "code",
   "execution_count": null,
   "metadata": {
    "deletable": false,
    "editable": false,
    "nbgrader": {
     "checksum": "9c4f049f1c9d885fb9196a954e8593af",
     "grade": true,
     "grade_id": "unique-categories-correct",
     "locked": true,
     "points": 1,
     "schema_version": 1,
     "solution": false
    }
   },
   "outputs": [],
   "source": []
  },
  {
   "cell_type": "markdown",
   "metadata": {},
   "source": [
    "Create a dataframe with two rows (one for the best store *max_store*, and one for the worst store *min_store*). The columns are the weeks *week* of the orange juice dataset. The values in the dataframe are the sum of the sales (*logmove*) of all three brands. Assign the dataframe to the variable *store_sales*. Then create a plot of the sales with on the x-axis the weeks, and on the y-axis the sum of the sales (the sum of the *logmove*)."
   ]
  },
  {
   "cell_type": "code",
   "execution_count": 8,
   "metadata": {
    "deletable": false,
    "nbgrader": {
     "checksum": "2fec6a945e12638449a43dae6ee61c60",
     "grade": false,
     "grade_id": "store-analysis",
     "locked": false,
     "schema_version": 1,
     "solution": true
    },
    "scrolled": false
   },
   "outputs": [
    {
     "data": {
      "image/png": "[encoded data removed]",
      "text/plain": [
       "<Figure size 432x288 with 1 Axes>"
      ]
     },
     "metadata": {
      "needs_background": "light"
     },
     "output_type": "display_data"
    }
   ],
   "source": [
    "# YOURCODE HERE\n",
    "store_sales = oj[(oj['store'] == max_store) | (oj['store'] == min_store)].pivot_table('logmove', index=['store'], columns='week', aggfunc='sum')\n",
    "plot = store_sales.T.plot()\n",
    "plot.set_ylabel('Sum of sales');\n",
    "# YOUR CODE ENDS HERE"
   ]
  },
  {
   "cell_type": "code",
   "execution_count": null,
   "metadata": {
    "deletable": false,
    "editable": false,
    "nbgrader": {
     "checksum": "3fc7dad109d14211f4c368bf8436b805",
     "grade": true,
     "grade_id": "store-analysis-correct",
     "locked": true,
     "points": 1,
     "schema_version": 1,
     "solution": false
    }
   },
   "outputs": [],
   "source": []
  },
  {
   "cell_type": "markdown",
   "metadata": {},
   "source": [
    "The previous picture does not explain why the best store does better than the worst store. Let study if the price influences the sales. Prepare a dataframe with two columns (the column *price* and the column *logmove*), with records only related to *max_store*. Assign this dataframe to variable *oj1*. Also create a table with the *price* and *logmove* with only records for store *min_store*. Assign this dataframe to variable *oj2*. "
   ]
  },
  {
   "cell_type": "code",
   "execution_count": 9,
   "metadata": {
    "deletable": false,
    "nbgrader": {
     "checksum": "936dd74f7c4719ab890fe344f6728b54",
     "grade": false,
     "grade_id": "regression",
     "locked": false,
     "schema_version": 1,
     "solution": true
    }
   },
   "outputs": [
    {
     "name": "stdout",
     "output_type": "stream",
     "text": [
      "const    9.153937\n",
      "price   -0.014614\n",
      "dtype: float64\n",
      "const    10.876949\n",
      "price    -0.672225\n",
      "dtype: float64\n"
     ]
    },
    {
     "name": "stderr",
     "output_type": "stream",
     "text": [
      "/anaconda3/lib/python3.7/site-packages/numpy/core/fromnumeric.py:2389: FutureWarning: Method .ptp is deprecated and will be removed in a future version. Use numpy.ptp instead.\n",
      "  return ptp(axis=axis, out=out, **kwargs)\n"
     ]
    }
   ],
   "source": [
    "import statsmodels.api as sm\n",
    "\n",
    "# YOUR CODE HERE\n",
    "oj1 = oj.loc[oj['store'] == max_store, ['price', 'logmove']]\n",
    "\n",
    "oj2 = oj.loc[oj['store'] == min_store, ['price', 'logmove']]\n",
    "# YOUR CODE ENDS HERE\n",
    "\n",
    "fit1 = sm.OLS(oj1['logmove'], sm.add_constant(oj1['price'])).fit()\n",
    "fit2 = sm.OLS(oj2['logmove'], sm.add_constant(oj2['price'])).fit()\n",
    "\n",
    "print(fit1.params)\n",
    "print(fit2.params)"
   ]
  },
  {
   "cell_type": "code",
   "execution_count": null,
   "metadata": {
    "deletable": false,
    "editable": false,
    "nbgrader": {
     "checksum": "6d178d158dec840b0daee265cf11dcb1",
     "grade": true,
     "grade_id": "regression-correct",
     "locked": true,
     "points": 1,
     "schema_version": 1,
     "solution": false
    }
   },
   "outputs": [],
   "source": []
  },
  {
   "cell_type": "markdown",
   "metadata": {},
   "source": [
    "The previous analysis explains the difference between the two stores. The best store has almost no sensitivity to the price. The worst store has a high negative sensitivity to the price. Hence, the best store can charge higher prices than the worst store.\n",
    "\n",
    "Let us now see which brand is the most popular. Create a dataframe in with the three brands (*brand*) and the total number of the sales (sum of *logmove*). Assign the result to the variable *brand_sales*."
   ]
  },
  {
   "cell_type": "code",
   "execution_count": 10,
   "metadata": {
    "deletable": false,
    "nbgrader": {
     "checksum": "d97b166ee1279af5adc87fd52b1ce521",
     "grade": false,
     "grade_id": "brand",
     "locked": false,
     "schema_version": 1,
     "solution": true
    }
   },
   "outputs": [
    {
     "name": "stdout",
     "output_type": "stream",
     "text": [
      "brand\n",
      "dominicks      88527.943226\n",
      "minute.maid    88937.517267\n",
      "tropicana      87916.698522\n",
      "Name: logmove, dtype: float64\n"
     ]
    }
   ],
   "source": [
    "# YOUR CODE HERE\n",
    "brand_sales = oj.groupby(by='brand')['logmove'].sum()\n",
    "print(brand_sales)\n",
    "# YOUR CODE ENDS HERE"
   ]
  },
  {
   "cell_type": "code",
   "execution_count": null,
   "metadata": {
    "deletable": false,
    "editable": false,
    "nbgrader": {
     "checksum": "529668297d88b55f8ec61442ba4bc8e5",
     "grade": true,
     "grade_id": "brand-correct",
     "locked": true,
     "points": 1,
     "schema_version": 1,
     "solution": false
    }
   },
   "outputs": [],
   "source": []
  },
  {
   "cell_type": "markdown",
   "metadata": {},
   "source": [
    "The column *feat* determines if the orange juice is on sale. Create a table with as row the different brands of orange juice (*brand*) and as columns the indicator for the sale (*feat*). The values in the table contain the mean price of the specific orange juices. Assign the value to the variable *featured*."
   ]
  },
  {
   "cell_type": "code",
   "execution_count": 11,
   "metadata": {
    "deletable": false,
    "nbgrader": {
     "checksum": "fbb2e682ab297705c758e610a8c0ec8c",
     "grade": false,
     "grade_id": "featured",
     "locked": false,
     "schema_version": 1,
     "solution": true
    }
   },
   "outputs": [
    {
     "name": "stdout",
     "output_type": "stream",
     "text": [
      "feat                0         1\n",
      "brand                          \n",
      "dominicks    1.795460  1.563375\n",
      "minute.maid  2.328877  2.024867\n",
      "tropicana    2.966131  2.390817\n"
     ]
    }
   ],
   "source": [
    "# YOUR CODE HERE\n",
    "featured = oj.pivot_table('price', index=['brand'], columns='feat', aggfunc='mean')\n",
    "print(featured)\n",
    "# YOUR CODE ENDS HERE"
   ]
  },
  {
   "cell_type": "code",
   "execution_count": null,
   "metadata": {
    "deletable": false,
    "editable": false,
    "nbgrader": {
     "checksum": "922176750df80a58eb1c560c7c6e385b",
     "grade": true,
     "grade_id": "featured-correct",
     "locked": true,
     "points": 1,
     "schema_version": 1,
     "solution": false
    }
   },
   "outputs": [],
   "source": []
  }
 ],
 "metadata": {
  "kernelspec": {
   "display_name": "Python 3",
   "language": "python",
   "name": "python3"
  },
  "language_info": {
   "codemirror_mode": {
    "name": "ipython",
    "version": 3
   },
   "file_extension": ".py",
   "mimetype": "text/x-python",
   "name": "python",
   "nbconvert_exporter": "python",
   "pygments_lexer": "ipython3",
   "version": "3.8.3"
  }
 },
 "nbformat": 4,
 "nbformat_minor": 2
}
