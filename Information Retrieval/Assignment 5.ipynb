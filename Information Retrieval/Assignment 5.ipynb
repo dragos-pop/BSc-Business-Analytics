{
 "cells": [
  {
   "cell_type": "markdown",
   "metadata": {},
   "source": [
    "# Assignment 5: Link Analysis"
   ]
  },
  {
   "cell_type": "markdown",
   "metadata": {},
   "source": [
    "In this assignment, we will use network-based algorithms, such as PageRank, to improve our search results. After the last assignment on evaluating IR systems, we go back to our PubMed dataset of scientific papers. In this dataset, we look at two graphs in particular: the co-authorship network and the citation network.\n",
    "\n",
    "The citation network is similar to the link network of the web: Citations are like web links pointing to other documents. We can therefore apply the same network-based ranking methods."
   ]
  },
  {
   "cell_type": "markdown",
   "metadata": {},
   "source": [
    "## Code from previous assignments"
   ]
  },
  {
   "cell_type": "code",
   "execution_count": 1,
   "metadata": {},
   "outputs": [],
   "source": [
    "import pickle, bz2\n",
    "from collections import defaultdict, namedtuple, Counter\n",
    "from math import log10, sqrt\n",
    "from IPython.display import display, HTML\n",
    "import matplotlib.pyplot as plt\n",
    "\n",
    "# show plots inline within the notebook\n",
    "%matplotlib inline\n",
    "# set plots' resolution\n",
    "plt.rcParams['savefig.dpi'] = 100"
   ]
  },
  {
   "cell_type": "code",
   "execution_count": 2,
   "metadata": {},
   "outputs": [],
   "source": [
    "Ids_file = 'data/allergy_Ids.pkl.bz2'\n",
    "Summaries_file = 'data/allergy_Summaries.pkl.bz2'\n",
    "Citations_file = 'data/allergy_Citations.pkl.bz2'\n",
    "Abstracts_file = 'data/allergy_Abstracts.pkl.bz2'\n",
    "\n",
    "Ids = pickle.load( bz2.BZ2File( Ids_file, 'rb' ) )\n",
    "Summaries = pickle.load( bz2.BZ2File( Summaries_file, 'rb' ) )\n",
    "Citations = pickle.load( bz2.BZ2File( Citations_file, 'rb' ) )\n",
    "Abstracts = pickle.load( bz2.BZ2File( Abstracts_file, 'rb' ) )\n",
    "\n",
    "paper = namedtuple( 'paper', ['title', 'authors', 'year', 'doi'] )\n",
    "\n",
    "for (id, paper_info) in Summaries.items():\n",
    "    Summaries[id] = paper( *paper_info )"
   ]
  },
  {
   "cell_type": "code",
   "execution_count": 3,
   "metadata": {},
   "outputs": [],
   "source": [
    "def display_summary( id, show_abstract=False, show_id=True, extra_text='' ):\n",
    "    \"\"\"\n",
    "    Function for printing a paper's summary through IPython's Rich Display System.\n",
    "    Trims long author lists, and adds a link to the paper's DOI (when available).\n",
    "    \"\"\"\n",
    "    s = Summaries[id]\n",
    "    lines = []\n",
    "    title = s.title\n",
    "    if s.doi != '':\n",
    "        title = '<a href=http://dx.doi.org/{:s}>{:s}</a>'.format(s.doi, title)\n",
    "    title = '<strong>' + title + '</strong>'\n",
    "    lines.append(title)\n",
    "    authors = ', '.join( s.authors[:20] ) + ('' if len(s.authors) <= 20 else ', ...')\n",
    "    lines.append(str(s.year) + '. ' + authors)\n",
    "    if (show_abstract):\n",
    "        lines.append('<small><strong>Abstract:</strong> <em>{:s}</em></small>'.format(Abstracts[id]))\n",
    "    if (show_id):\n",
    "        lines.append('[ID: {:d}]'.format(id))\n",
    "    if (extra_text != ''):\n",
    "         lines.append(extra_text)\n",
    "    display( HTML('<br>'.join(lines)) )"
   ]
  },
  {
   "cell_type": "code",
   "execution_count": 4,
   "metadata": {},
   "outputs": [],
   "source": [
    "def tokenize(text):\n",
    "    return text.split(' ')\n",
    "\n",
    "def preprocess(tokens):\n",
    "    result = []\n",
    "    for token in tokens:\n",
    "        result.append(token.lower())\n",
    "    return result"
   ]
  },
  {
   "cell_type": "code",
   "execution_count": 5,
   "metadata": {},
   "outputs": [],
   "source": [
    "inverted_index = defaultdict(set)\n",
    "\n",
    "for (id, abstract) in Abstracts.items():\n",
    "    for term in preprocess(tokenize(abstract)):\n",
    "        inverted_index[term].add(id)\n",
    "\n",
    "tf_matrix = defaultdict(Counter)\n",
    "\n",
    "for (doc_id, abstract) in Abstracts.items():\n",
    "    tokens = preprocess(tokenize(abstract))\n",
    "    tf_matrix[doc_id] = Counter(tokens)\n",
    "\n",
    "def tf(t,d):\n",
    "    return float(tf_matrix[d][t])\n",
    "\n",
    "def df(t):\n",
    "    return float(len(inverted_index[t]))\n",
    "\n",
    "num_documents = float(len(Abstracts))\n",
    "\n",
    "def idf(t):\n",
    "    return log10((num_documents + 1)/(df(t) + 1))\n",
    "\n",
    "def tfidf(t,d):\n",
    "    return tf(t,d) * idf(t)"
   ]
  },
  {
   "cell_type": "markdown",
   "metadata": {},
   "source": [
    "## Co-authorship network"
   ]
  },
  {
   "cell_type": "markdown",
   "metadata": {},
   "source": [
    "We start by building a mapping from authors to the set of identifiers of papers they authored.  We'll be using Python sets again for that purpose."
   ]
  },
  {
   "cell_type": "code",
   "execution_count": 6,
   "metadata": {},
   "outputs": [],
   "source": [
    "papers_of_author = defaultdict(set)\n",
    "\n",
    "for (id, p) in Summaries.items():\n",
    "    for a in p.authors:\n",
    "        papers_of_author[a].add(id)"
   ]
  },
  {
   "cell_type": "markdown",
   "metadata": {},
   "source": [
    "Let's try it out:"
   ]
  },
  {
   "cell_type": "code",
   "execution_count": 7,
   "metadata": {},
   "outputs": [
    {
     "data": {
      "text/plain": [
       "{21436399, 24037376}"
      ]
     },
     "execution_count": 7,
     "metadata": {},
     "output_type": "execute_result"
    }
   ],
   "source": [
    "papers_of_author['Chawla A']"
   ]
  },
  {
   "cell_type": "code",
   "execution_count": 8,
   "metadata": {},
   "outputs": [
    {
     "data": {
      "text/html": [
       "<strong><a href=http://dx.doi.org/10.1038/nature12526>Type 2 innate lymphoid cells control eosinophil homeostasis.</a></strong><br>2013. Nussbaum JC, Van Dyken SJ, von Moltke J, Cheng LE, Mohapatra A, Molofsky AB, Thornton EE, Krummel MF, Chawla A, Liang HE, Locksley RM<br>[ID: 24037376]"
      ],
      "text/plain": [
       "<IPython.core.display.HTML object>"
      ]
     },
     "metadata": {},
     "output_type": "display_data"
    },
    {
     "data": {
      "text/html": [
       "<strong><a href=http://dx.doi.org/10.1126/science.1201475>Eosinophils sustain adipose alternatively activated macrophages associated with glucose homeostasis.</a></strong><br>2011. Wu D, Molofsky AB, Liang HE, Ricardo-Gonzalez RR, Jouihan HA, Bando JK, Chawla A, Locksley RM<br>[ID: 21436399]"
      ],
      "text/plain": [
       "<IPython.core.display.HTML object>"
      ]
     },
     "metadata": {},
     "output_type": "display_data"
    }
   ],
   "source": [
    "for id in papers_of_author['Chawla A']:\n",
    "    display_summary(id)"
   ]
  },
  {
   "cell_type": "markdown",
   "metadata": {},
   "source": [
    "We can now build a co-authorship network, that is a graph linking authors to the set of co-authors they have published with:"
   ]
  },
  {
   "cell_type": "code",
   "execution_count": 9,
   "metadata": {},
   "outputs": [],
   "source": [
    "coauthors = defaultdict(set)\n",
    "\n",
    "for p in Summaries.values():\n",
    "    for a in p.authors:\n",
    "        coauthors[a].update(p.authors)\n",
    "\n",
    "# The code above results in each author being listed as having co-authored with himself/herself.\n",
    "# We remove these self-references here:\n",
    "for (a, ca) in coauthors.items():\n",
    "    ca.remove(a)"
   ]
  },
  {
   "cell_type": "markdown",
   "metadata": {},
   "source": [
    "And let's try it out again:"
   ]
  },
  {
   "cell_type": "code",
   "execution_count": 10,
   "metadata": {},
   "outputs": [
    {
     "name": "stdout",
     "output_type": "stream",
     "text": [
      "Liang HE, Wu D, Molofsky AB, Krummel MF, Bando JK, Nussbaum JC, Locksley RM, Cheng LE, Thornton EE, Ricardo-Gonzalez RR, Jouihan HA, Van Dyken SJ, Mohapatra A, von Moltke J\n"
     ]
    }
   ],
   "source": [
    "print(', '.join( coauthors['Chawla A'] ))"
   ]
  },
  {
   "cell_type": "markdown",
   "metadata": {},
   "source": [
    "Unlike a citation or link network, the edges of this co-authorship network are not directed: There is no direction (no arrow) in the link between author 'Chawla A' and 'Thornton EE', for example. With our chosen implementation, each of these links in fact appears twice in our data, as we also get 'Chawla A' as co-author when we look for 'Thornton EE':"
   ]
  },
  {
   "cell_type": "code",
   "execution_count": 11,
   "metadata": {},
   "outputs": [
    {
     "name": "stdout",
     "output_type": "stream",
     "text": [
      "Liang HE, Molofsky AB, Chawla A, Krummel MF, Nussbaum JC, Locksley RM, Cheng LE, Van Dyken SJ, Mohapatra A, von Moltke J\n"
     ]
    }
   ],
   "source": [
    "print(', '.join( coauthors['Thornton EE'] ))"
   ]
  },
  {
   "cell_type": "markdown",
   "metadata": {},
   "source": [
    "With that in mind, we can calculate some basic statistics about our graph:"
   ]
  },
  {
   "cell_type": "code",
   "execution_count": 12,
   "metadata": {},
   "outputs": [
    {
     "name": "stdout",
     "output_type": "stream",
     "text": [
      "Number of nodes (authors):  137755\n",
      "Number of links (co-authorship relations):  961501\n"
     ]
    }
   ],
   "source": [
    "print('Number of nodes (authors): ', len(coauthors))\n",
    "\n",
    "# We divide by two here to account for the fact that each edge is represented twice (see above):\n",
    "coauthor_rel_count = int(sum( len(c) for c in coauthors.values() ) / 2)\n",
    "print('Number of links (co-authorship relations): ', coauthor_rel_count)"
   ]
  },
  {
   "cell_type": "markdown",
   "metadata": {},
   "source": [
    "With this data at hand, we can plot the [degree distribution](https://en.wikipedia.org/wiki/Degree_distribution) by showing the number of collaborators a scientist has published with:"
   ]
  },
  {
   "cell_type": "code",
   "execution_count": 13,
   "metadata": {},
   "outputs": [
    {
     "data": {
      "image/png": "[encoded data removed]",
      "text/plain": [
       "<Figure size 432x288 with 1 Axes>"
      ]
     },
     "metadata": {
      "needs_background": "light"
     },
     "output_type": "display_data"
    }
   ],
   "source": [
    "plt.hist( x=[ len(ca) for ca in coauthors.values() ], bins=range(60) )\n",
    "plt.xlabel('number of co-authors')\n",
    "plt.ylabel('number of researchers')\n",
    "plt.xlim(0,51);"
   ]
  },
  {
   "cell_type": "markdown",
   "metadata": {},
   "source": [
    "Now that we have explored this network, let's move to the citation network."
   ]
  },
  {
   "cell_type": "markdown",
   "metadata": {},
   "source": [
    "## Citations network"
   ]
  },
  {
   "cell_type": "markdown",
   "metadata": {},
   "source": [
    "Next, we can look at the citation network. In contrast to the co-authorship network, the citation network is a _directed_ network, where edges can be drawn as arrows. We'll start by expanding the our data about citations into two mappings: \n",
    "\n",
    "* `papers_citing[id]`: papers citing a given paper\n",
    "* `cited_by[id]`: papers cited by a given paper (in other words: its list of references)\n",
    "\n",
    "`papers_citing` will give us the list of a node's incoming links, whereas `cited_by` will give us the list of its outgoing links."
   ]
  },
  {
   "cell_type": "code",
   "execution_count": 14,
   "metadata": {},
   "outputs": [],
   "source": [
    "papers_citing = Citations  # no changes needed, this is what we are storing already in the Citations dataset\n",
    "\n",
    "cited_by = defaultdict(list)\n",
    "\n",
    "for ref, papers_citing_ref in papers_citing.items():\n",
    "    for id in papers_citing_ref:\n",
    "        cited_by[ id ].append( ref )"
   ]
  },
  {
   "cell_type": "markdown",
   "metadata": {},
   "source": [
    "As we are dealing with a subset of the data (the papers mentioning \"allergy\"), `papers_citing` can contain references to papers outside of our subset. On the other hand, the way we created `cited_by`, it will only contain backward references from within our dataset, meaning that it is incomplete with respect to the whole dataset. Nethertheless, we can use this citation network on our subset of allergy-related papers to implement link analysis techniques.\n",
    "\n",
    "Let us now look at an exemplary paper, let's say the one with identifier 23917667. We can now use the `cited_by` mapping to retrieve its (incomplete) list of references:"
   ]
  },
  {
   "cell_type": "code",
   "execution_count": 15,
   "metadata": {},
   "outputs": [
    {
     "name": "stdout",
     "output_type": "stream",
     "text": [
      "12 references found for paper 23917667\n"
     ]
    },
    {
     "data": {
      "text/plain": [
       "{21771119: 'The role of genetics and environment in the rise of childhood food allergy.',\n",
       " 21624746: 'Association between genes encoding components of the IL-10/IL-0 receptor pathway and asthma in children.',\n",
       " 18440625: 'Dust mite exposure modifies the effect of functional IL10 polymorphisms on allergy and asthma exacerbations.',\n",
       " 17935766: \"The natural history of IgE-mediated cow's milk allergy.\",\n",
       " 17121586: 'Influence of SNPs in cytokine-related genes on the severity of food allergy and atopic eczema in children.',\n",
       " 16373958: \"Cow's milk allergy: a complex disorder.\",\n",
       " 16310526: 'Adverse reactions to foods.',\n",
       " 15864084: 'Genetic and environmental risk factors for the development of food allergy.',\n",
       " 15131577: \"Cow's milk-specific T-cell reactivity of children with and without persistent cow's milk allergy: key role for IL-10.\",\n",
       " 14748015: 'IL10 gene polymorphisms are associated with asthma phenotypes in children.',\n",
       " 12884306: 'Reduced transforming growth factor-beta1-producing T cells in the duodenal mucosa of children with food allergy.',\n",
       " 12592300: '9. Food allergy.'}"
      ]
     },
     "execution_count": 15,
     "metadata": {},
     "output_type": "execute_result"
    }
   ],
   "source": [
    "paper_id = 23917667\n",
    "refs = { id : Summaries[id].title for id in cited_by[paper_id] }\n",
    "print(len(refs), 'references found for paper', paper_id)\n",
    "refs"
   ]
  },
  {
   "cell_type": "markdown",
   "metadata": {},
   "source": [
    "If we lookup the same paper in `papers_citing`, we now see that some of the cited papers are themselves in our dataset, but others are not (shown below as `'??'`):"
   ]
  },
  {
   "cell_type": "code",
   "execution_count": 16,
   "metadata": {},
   "outputs": [
    {
     "data": {
      "text/plain": [
       "{27070332: 'Are genetic tests informative in predicting food allergy?',\n",
       " 26516307: '??',\n",
       " 25721048: '??',\n",
       " 25238536: '??'}"
      ]
     },
     "execution_count": 16,
     "metadata": {},
     "output_type": "execute_result"
    }
   ],
   "source": [
    "{ id : Summaries.get(id,['??'])[0]  for id in papers_citing[paper_id] }"
   ]
  },
  {
   "cell_type": "markdown",
   "metadata": {},
   "source": [
    "Paper 26516307, for example, is not in our dataset and we do not have any direct information about it, but its repeated occurrence in other papers' citation lists does allow us to reconstruct some of its references. Below is the list of papers in our dataset cited by that paper:"
   ]
  },
  {
   "cell_type": "code",
   "execution_count": 17,
   "metadata": {},
   "outputs": [
    {
     "name": "stdout",
     "output_type": "stream",
     "text": [
      "4 references identified for the paper with id 26516307\n"
     ]
    },
    {
     "data": {
      "text/plain": [
       "{23917667: \"Interleukin 10 (IL10) and transforming growth factor β1 (TGFβ1) gene polymorphisms in persistent IgE-mediated cow's milk allergy.\",\n",
       " 23108822: 'Interleukin-13 gene polymorphisms at -1055 C/T and +2044 G/A positions in patients with squamous cell carcinoma of head and neck.',\n",
       " 15711639: 'IL-13 R130Q, a common variant associated with allergy and asthma, enhances effector mechanisms essential for human allergic inflammation.',\n",
       " 15548720: 'Reduced immunoglobulin E and allergy among adults with glioma compared with controls.'}"
      ]
     },
     "execution_count": 17,
     "metadata": {},
     "output_type": "execute_result"
    }
   ],
   "source": [
    "paper_id2 = 26516307\n",
    "refs2 = { id : Summaries[id].title for id in cited_by[paper_id2] }\n",
    "print(len(refs2), 'references identified for the paper with id', paper_id2)\n",
    "refs2"
   ]
  },
  {
   "cell_type": "markdown",
   "metadata": {},
   "source": [
    "Now that we have a better understanding about the data we're dealing with, let us obtain again some basic statistics about our graph."
   ]
  },
  {
   "cell_type": "code",
   "execution_count": 18,
   "metadata": {},
   "outputs": [
    {
     "name": "stdout",
     "output_type": "stream",
     "text": [
      "Number of papers in our subset: 73740 (100.00 %)\n",
      "Number of papers cited at least once: 37449 (50.79 %)\n",
      "Number of isolated nodes:  34435 (46.70 %)\n"
     ]
    }
   ],
   "source": [
    "n = len(Ids)\n",
    "print('Number of papers in our subset: {:d} ({:.2f} %)'.format(n, 100.0) )\n",
    "\n",
    "with_citation = [ id for id in Ids if papers_citing[id] != [] ]\n",
    "with_citation_rel = 100. * len(with_citation) / n\n",
    "print('Number of papers cited at least once: {:d} ({:.2f} %)'.format(len(with_citation), with_citation_rel) )\n",
    "\n",
    "isolated = set( id for id in Ids if papers_citing[id] == [] and id not in cited_by )\n",
    "isolated_rel = 100. * len(isolated) / n\n",
    "print('Number of isolated nodes:  {:d} ({:.2f} %)'.format(len(isolated), isolated_rel) )"
   ]
  },
  {
   "cell_type": "code",
   "execution_count": 19,
   "metadata": {},
   "outputs": [
    {
     "name": "stdout",
     "output_type": "stream",
     "text": [
      "Overall number of nodes: 198687 (100.00 %)\n",
      "Number of non-isolated nodes: 164252 (82.67 %)\n",
      "Number of nodes outside our subset: 124947 (62.89 %)\n"
     ]
    }
   ],
   "source": [
    "id_set = set( Ids )\n",
    "citing_set = set( cited_by.keys() )\n",
    "\n",
    "outsiders = citing_set - id_set   # set difference\n",
    "nodes = citing_set | id_set   # set union\n",
    "non_isolated = nodes - isolated   # set difference\n",
    "\n",
    "print('Overall number of nodes: {:d} ({:.2f} %)'.format(len(nodes), 100.0) )\n",
    "\n",
    "non_isolated_rel = 100. * len(non_isolated) / len(nodes)\n",
    "print('Number of non-isolated nodes: {:d} ({:.2f} %)'.format(len(non_isolated), non_isolated_rel) )\n",
    "\n",
    "outsiders_rel = 100. * len(outsiders) / len(nodes)\n",
    "print('Number of nodes outside our subset: {:d} ({:.2f} %)'.format( len(outsiders), outsiders_rel ) )"
   ]
  },
  {
   "cell_type": "code",
   "execution_count": 20,
   "metadata": {},
   "outputs": [
    {
     "name": "stdout",
     "output_type": "stream",
     "text": [
      "Overall number of links (citations): 309385 (100.00 %)\n",
      "Citations outside the subset: 221506 (71.60 %)\n"
     ]
    }
   ],
   "source": [
    "all_citations = [ c for citing in papers_citing.values() for c in citing ]\n",
    "outsider_citations = [ c for citing in papers_citing.values() for c in citing if c in outsiders ]\n",
    "\n",
    "print('Overall number of links (citations): {:d} ({:.2f} %)'.format(len(all_citations), 100.0) )\n",
    "\n",
    "outsider_citations_rel = 100. * len(outsider_citations) / len(all_citations)\n",
    "print('Citations outside the subset: {:d} ({:.2f} %)'.format(len(outsider_citations), outsider_citations_rel) )"
   ]
  },
  {
   "cell_type": "markdown",
   "metadata": {},
   "source": [
    "Let us now find our which 10 papers are the most cited in our dataset."
   ]
  },
  {
   "cell_type": "code",
   "execution_count": 21,
   "metadata": {},
   "outputs": [
    {
     "data": {
      "text/html": [
       "<strong><a href=http://dx.doi.org/10.1016/j.cell.2006.02.015>Pathogen recognition and innate immunity.</a></strong><br>2006. Akira S, Uematsu S, Takeuchi O<br>[ID: 16497588]<br>Citation count: 2655"
      ],
      "text/plain": [
       "<IPython.core.display.HTML object>"
      ]
     },
     "metadata": {},
     "output_type": "display_data"
    },
    {
     "data": {
      "text/html": [
       "<strong><a href=http://dx.doi.org/10.1056/NEJMoa1105243>Prevention of HIV-1 infection with early antiretroviral therapy.</a></strong><br>2011. Cohen MS, Chen YQ, McCauley M, Gamble T, Hosseinipour MC, Kumarasamy N, Hakim JG, Kumwenda J, Grinsztejn B, Pilotto JH, Godbole SV, Mehendale S, Chariyalertsak S, Santos BR, Mayer KH, Hoffman IF, Eshleman SH, Piwowar-Manning E, Wang L, Makhema J, ...<br>[ID: 21767103]<br>Citation count: 2519"
      ],
      "text/plain": [
       "<IPython.core.display.HTML object>"
      ]
     },
     "metadata": {},
     "output_type": "display_data"
    },
    {
     "data": {
      "text/html": [
       "<strong><a href=http://dx.doi.org/10.1038/35047123>A Toll-like receptor recognizes bacterial DNA.</a></strong><br>2000. Hemmi H, Takeuchi O, Kawai T, Kaisho T, Sato S, Sanjo H, Matsumoto M, Hoshino K, Wagner H, Takeda K, Akira S<br>[ID: 11130078]<br>Citation count: 1357"
      ],
      "text/plain": [
       "<IPython.core.display.HTML object>"
      ]
     },
     "metadata": {},
     "output_type": "display_data"
    },
    {
     "data": {
      "text/html": [
       "<strong><a href=http://dx.doi.org/10.1038/nri3073>Protective and pathogenic functions of macrophage subsets.</a></strong><br>2011. Murray PJ, Wynn TA<br>[ID: 21997792]<br>Citation count: 1073"
      ],
      "text/plain": [
       "<IPython.core.display.HTML object>"
      ]
     },
     "metadata": {},
     "output_type": "display_data"
    },
    {
     "data": {
      "text/html": [
       "<strong><a href=http://dx.doi.org/10.1038/nri2515>The gut microbiota shapes intestinal immune responses during health and disease.</a></strong><br>2009. Round JL, Mazmanian SK<br>[ID: 19343057]<br>Citation count: 1049"
      ],
      "text/plain": [
       "<IPython.core.display.HTML object>"
      ]
     },
     "metadata": {},
     "output_type": "display_data"
    },
    {
     "data": {
      "text/html": [
       "<strong><a href=http://dx.doi.org/10.1126/science.1198469>Induction of colonic regulatory T cells by indigenous Clostridium species.</a></strong><br>2011. Atarashi K, Tanoue T, Shima T, Imaoka A, Kuwahara T, Momose Y, Cheng G, Yamasaki S, Saito T, Ohba Y, Taniguchi T, Takeda K, Hori S, Ivanov II, Umesaki Y, Itoh K, Honda K<br>[ID: 21205640]<br>Citation count: 916"
      ],
      "text/plain": [
       "<IPython.core.display.HTML object>"
      ]
     },
     "metadata": {},
     "output_type": "display_data"
    },
    {
     "data": {
      "text/html": [
       "<strong><a href=http://dx.doi.org/10.1086/588660>Revised definitions of invasive fungal disease from the European Organization for Research and Treatment of Cancer/Invasive Fungal Infections Cooperative Group and the National Institute of Allergy and Infectious Diseases Mycoses Study Group (EORTC/MSG) Consensus Group.</a></strong><br>2008. De Pauw B, Walsh TJ, Donnelly JP, Stevens DA, Edwards JE, Calandra T, Pappas PG, Maertens J, Lortholary O, Kauffman CA, Denning DW, Patterson TF, Maschmeyer G, Bille J, Dismukes WE, Herbrecht R, Hope WW, Kibbler CC, Kullberg BJ, Marr KA, ...<br>[ID: 18462102]<br>Citation count: 866"
      ],
      "text/plain": [
       "<IPython.core.display.HTML object>"
      ]
     },
     "metadata": {},
     "output_type": "display_data"
    },
    {
     "data": {
      "text/html": [
       "<strong><a href=http://dx.doi.org/10.1146/annurev.immunol.21.120601.141122>Naturally arising CD4+ regulatory t cells for immunologic self-tolerance and negative control of immune responses.</a></strong><br>2004. Sakaguchi S<br>[ID: 15032588]<br>Citation count: 800"
      ],
      "text/plain": [
       "<IPython.core.display.HTML object>"
      ]
     },
     "metadata": {},
     "output_type": "display_data"
    },
    {
     "data": {
      "text/html": [
       "<strong><a href=http://dx.doi.org/10.1146/annurev.immunol.25.022106.141623>Regulatory T cells: mechanisms of differentiation and function.</a></strong><br>2012. Josefowicz SZ, Lu LF, Rudensky AY<br>[ID: 22224781]<br>Citation count: 736"
      ],
      "text/plain": [
       "<IPython.core.display.HTML object>"
      ]
     },
     "metadata": {},
     "output_type": "display_data"
    },
    {
     "data": {
      "text/html": [
       "<strong><a href=http://dx.doi.org/10.1056/NEJMoa1506816>Initiation of Antiretroviral Therapy in Early Asymptomatic HIV Infection.</a></strong><br>2015. INSIGHT START Study Group., Lundgren JD, Babiker AG, Gordin F, Emery S, Grund B, Sharma S, Avihingsanon A, Cooper DA, Fätkenheuer G, Llibre JM, Molina JM, Munderi P, Schechter M, Wood R, Klingman KL, Collins S, Lane HC, Phillips AN, Neaton JD<br>[ID: 26192873]<br>Citation count: 685"
      ],
      "text/plain": [
       "<IPython.core.display.HTML object>"
      ]
     },
     "metadata": {},
     "output_type": "display_data"
    }
   ],
   "source": [
    "citation_count_per_paper = [ (id, len(citations)) for (id,citations) in papers_citing.items() ]\n",
    "sorted_by_citation_count = sorted(citation_count_per_paper, key=lambda i:i[1], reverse=True)\n",
    "\n",
    "for (id, c) in sorted_by_citation_count[:10]:\n",
    "    display_summary(id, extra_text = 'Citation count: ' + str(c))"
   ]
  },
  {
   "cell_type": "markdown",
   "metadata": {},
   "source": [
    "Before we can start calculating some interesting network metrics, we will first have a closer look at the Python package that we are going to use for that."
   ]
  },
  {
   "cell_type": "markdown",
   "metadata": {},
   "source": [
    "## Link Analysis for Search Engines"
   ]
  },
  {
   "cell_type": "markdown",
   "metadata": {},
   "source": [
    "In order to use the citation network, we need to be able to perform some complex graph algorithms on it. To make our lives easier, we will use [NetworkX](https://pypi.python.org/pypi/networkx), a Python package for dealing with complex networks:"
   ]
  },
  {
   "cell_type": "code",
   "execution_count": 22,
   "metadata": {},
   "outputs": [
    {
     "name": "stdout",
     "output_type": "stream",
     "text": [
      "Requirement already satisfied: networkx in /anaconda3/lib/python3.7/site-packages (2.2)\r\n",
      "Requirement already satisfied: decorator>=4.3.0 in /anaconda3/lib/python3.7/site-packages (from networkx) (4.4.0)\r\n"
     ]
    }
   ],
   "source": [
    "! pip install --user networkx"
   ]
  },
  {
   "cell_type": "code",
   "execution_count": 23,
   "metadata": {},
   "outputs": [],
   "source": [
    "import networkx as nx\n",
    "\n",
    "G = nx.DiGraph(cited_by)"
   ]
  },
  {
   "cell_type": "markdown",
   "metadata": {},
   "source": [
    "We now have a NetworkX Directed Graph stored in `G`, where a node represents a paper, and an edge represents a citation. This means we can now apply the [algorithms](http://networkx.github.io/documentation/networkx-1.10/reference/algorithms.html) and [functions](http://networkx.github.io/documentation/networkx-1.10/reference/functions.html) of NetworkX to our graph:"
   ]
  },
  {
   "cell_type": "code",
   "execution_count": 24,
   "metadata": {},
   "outputs": [
    {
     "name": "stdout",
     "output_type": "stream",
     "text": [
      "Name: \n",
      "Type: DiGraph\n",
      "Number of nodes: 164252\n",
      "Number of edges: 309385\n",
      "Average in degree:   1.8836\n",
      "Average out degree:   1.8836\n",
      "Directed graph: True\n",
      "Density of graph: 1.14678120125452e-05\n"
     ]
    }
   ],
   "source": [
    "print(nx.info(G))\n",
    "print('Directed graph:', nx.is_directed(G))\n",
    "print('Density of graph:', nx.density(G))"
   ]
  },
  {
   "cell_type": "markdown",
   "metadata": {},
   "source": [
    "As this graph was generated from citations only, we need to add all isolated nodes (nodes that are not cited and do not cite other papers) as well:"
   ]
  },
  {
   "cell_type": "code",
   "execution_count": 25,
   "metadata": {},
   "outputs": [],
   "source": [
    "G.add_nodes_from(isolated)"
   ]
  },
  {
   "cell_type": "markdown",
   "metadata": {},
   "source": [
    "And now we get slightly different values:"
   ]
  },
  {
   "cell_type": "code",
   "execution_count": 26,
   "metadata": {},
   "outputs": [
    {
     "name": "stdout",
     "output_type": "stream",
     "text": [
      "Name: \n",
      "Type: DiGraph\n",
      "Number of nodes: 198687\n",
      "Number of edges: 309385\n",
      "Average in degree:   1.5571\n",
      "Average out degree:   1.5571\n",
      "Directed graph: True\n",
      "Density of graph: 7.837228966726296e-06\n"
     ]
    }
   ],
   "source": [
    "print(nx.info(G))\n",
    "print('Directed graph:', nx.is_directed(G))\n",
    "print('Density of graph:', nx.density(G))"
   ]
  },
  {
   "cell_type": "markdown",
   "metadata": {},
   "source": [
    "Now we are ready to use this package for our tasks."
   ]
  },
  {
   "cell_type": "markdown",
   "metadata": {},
   "source": [
    "----------"
   ]
  },
  {
   "cell_type": "markdown",
   "metadata": {},
   "source": [
    "# Tasks"
   ]
  },
  {
   "cell_type": "markdown",
   "metadata": {},
   "source": [
    "**Your name:** Dragos Pop"
   ]
  },
  {
   "cell_type": "markdown",
   "metadata": {},
   "source": [
    "### Task 1\n",
    "\n",
    "Plot the in-degree distribution (that is, the distribution of the number of incoming links; see [here](https://en.wikipedia.org/wiki/Degree_distribution) and [here](http://mathinsight.org/degree_distribution) for more detailed explanations) for the citation network. What can you tell about the shape of this distribution, and what does this tell us about the network?"
   ]
  },
  {
   "cell_type": "code",
   "execution_count": 27,
   "metadata": {},
   "outputs": [
    {
     "data": {
      "image/png": "[encoded data removed]",
      "text/plain": [
       "<Figure size 432x288 with 1 Axes>"
      ]
     },
     "metadata": {
      "needs_background": "light"
     },
     "output_type": "display_data"
    }
   ],
   "source": [
    "plt.hist( x = [len(paper) for paper in papers_citing.values()], bins=range(40))\n",
    "plt.xlabel('number of incoming links')\n",
    "plt.ylabel('number of papers')\n",
    "plt.xlim(0, 40);"
   ]
  },
  {
   "cell_type": "markdown",
   "metadata": {},
   "source": [
    "**Answer:** The shape of the distribution of the incoming links seems to follow a Power Law distribution. Hence, it mirrors the distribution of the links on the web, namely numerous nodes with a few links (many papers with few incoming links) and few hubs with many links (few papers with many incoming links). Accordingly, the citations network is similar to the web network. "
   ]
  },
  {
   "cell_type": "markdown",
   "metadata": {},
   "source": [
    "### Task 2\n",
    "\n",
    "Using the [Link Analysis](https://networkx.github.io/documentation/networkx-1.10/reference/algorithms.link_analysis.html) algorithms provided by NetworkX, calculate the PageRank score for all nodes in the citation network, and store the result in a variable called `pageranks`. Print out the PageRank values for the two example papers given below.\n",
    "You can also use the `pagerank_scipy` implementation, which tends to be considerably faster than its regular `pagerank` counterpart, for which you have to install the [SciPy package](http://scipy.org/):"
   ]
  },
  {
   "cell_type": "code",
   "execution_count": 28,
   "metadata": {},
   "outputs": [
    {
     "name": "stdout",
     "output_type": "stream",
     "text": [
      "Requirement already satisfied: scipy in /anaconda3/lib/python3.7/site-packages (1.2.0)\r\n",
      "Requirement already satisfied: numpy>=1.8.2 in /anaconda3/lib/python3.7/site-packages (from scipy) (1.16.2)\r\n"
     ]
    }
   ],
   "source": [
    "! pip install --user scipy"
   ]
  },
  {
   "cell_type": "markdown",
   "metadata": {},
   "source": [
    "To print and compare PageRank values, you might want to use commands like `print('{:.6f}'.format(var))` to use regular decimal notation with a fixed number of decimal places."
   ]
  },
  {
   "cell_type": "code",
   "execution_count": 29,
   "metadata": {},
   "outputs": [
    {
     "name": "stdout",
     "output_type": "stream",
     "text": [
      "The PageRank of the paper 26968958 is 0.000004\n",
      "The PageRank of the paper 20923692 is 0.000059\n"
     ]
    }
   ],
   "source": [
    "pageranks = nx.pagerank_scipy(G)\n",
    "print(\"The PageRank of the paper 26968958 is\", '{:.6f}'.format(pageranks[26968958]))\n",
    "print(\"The PageRank of the paper 20923692 is\", '{:.6f}'.format(pageranks[20923692]))"
   ]
  },
  {
   "cell_type": "markdown",
   "metadata": {},
   "source": [
    "### Task 3\n",
    "\n",
    "Why do the two papers above have such different PageRank values? Write code below to investigate and show the cause of this, and then explain the cause of this difference based on the results generated by your code."
   ]
  },
  {
   "cell_type": "code",
   "execution_count": 30,
   "metadata": {},
   "outputs": [
    {
     "name": "stdout",
     "output_type": "stream",
     "text": [
      "The PageRank for paper 26968958 is 0.000004\n",
      "The number of papers cited by paper 26968958 is 0\n",
      "The number of papers citing paper 26968958 is 10\n",
      "0.000003 112\n",
      "0.000003 29\n",
      "0.000003 75\n",
      "0.000006 98\n",
      "0.000003 31\n",
      "0.000003 40\n",
      "0.000004 48\n",
      "0.000003 23\n",
      "0.000003 24\n",
      "0.000003 37\n",
      "\n",
      "The PageRank for paper 20923692 is 0.000059\n",
      "The number of papers cited by paper 20923692 is 0\n",
      "The number of papers citing paper 20923692 is 10\n",
      "0.000003 2\n",
      "0.000003 2\n",
      "0.000005 4\n",
      "0.000003 2\n",
      "0.000238 4\n",
      "0.000003 17\n",
      "0.000009 1\n",
      "0.000003 4\n",
      "0.000003 2\n",
      "0.000003 3\n"
     ]
    }
   ],
   "source": [
    "print(\"The PageRank for paper 26968958 is\", '{:.6f}'.format(pageranks[26968958]))\n",
    "print(\"The number of papers cited by paper 26968958 is\", len(cited_by[26968958]))\n",
    "print(\"The number of papers citing paper 26968958 is\", len(papers_citing[26968958]))\n",
    "for citing_paper in papers_citing[26968958]:\n",
    "    print('{:.6f}'.format(pageranks[citing_paper]), len(cited_by[citing_paper]))\n",
    "\n",
    "print(\"\\nThe PageRank for paper 20923692 is\", '{:.6f}'.format(pageranks[20923692]))\n",
    "print(\"The number of papers cited by paper 20923692 is\", len(cited_by[20923692]))\n",
    "print(\"The number of papers citing paper 20923692 is\", len(papers_citing[20923692]))\n",
    "for citing_paper in papers_citing[20923692]:\n",
    "    print('{:.6f}'.format(pageranks[citing_paper]), len(cited_by[citing_paper]))"
   ]
  },
  {
   "cell_type": "markdown",
   "metadata": {
    "collapsed": true
   },
   "source": [
    "**Answer:** As one can see above, the second paper has a PageRank more than ten times higher than the first article and there are two reasons for that. The first is that the latter writing is citing papers with a higher PageRank (0.000238 and 0.000009) and having links with more important essays increases the overall score. Secondly, even if both mention the same number of documents, the papers referred by the former one are cited by more additional articles, which significantly raise the value of the denominator in the PageRank formula, that leads to a lower result."
   ]
  },
  {
   "cell_type": "markdown",
   "metadata": {},
   "source": [
    "### Task 4\n",
    "\n",
    "Copy the scoring function `score_ntn` from Task 4 of assignment 3. Rename it to `score_ntn_pagerank` and change its code to incorporate a paper's PageRank score in it's final score, in addition to tf-idf. In other words, the new function should accept a `list` of query tokens and a document ID, and should return a single `float` value that is calculated based on both scores (PageRank and tf-idf). Note that a `tf-idf` function is already provided above. Explain your decision on how to combine the two scores."
   ]
  },
  {
   "cell_type": "code",
   "execution_count": 31,
   "metadata": {},
   "outputs": [],
   "source": [
    "def score_ntn_pagerank(query_words, doc_id):\n",
    "    score = 0\n",
    "    for i in query_words:\n",
    "        score += float(tfidf(i, doc_id))\n",
    "    return score * pageranks[doc_id]"
   ]
  },
  {
   "cell_type": "markdown",
   "metadata": {
    "collapsed": true
   },
   "source": [
    "**Answer:** Multiplication was chosen to combine the two scores because adding the values would not create a notable difference since the PageRanks are very small. In the case of summing, the final rank would most likely resemble the original one, given by score_ntn. By multiplying both scores, one makes sure that the two terms have the same proportion in influencing the result, as opposed to the PageRank being insignificant."
   ]
  },
  {
   "cell_type": "markdown",
   "metadata": {},
   "source": [
    "### Task 5\n",
    "\n",
    "Copy the query function `query_ntn` from Task 4 of assignment 3. Rename it to `query_ntn_pagerank` and change the code to use our new scoring function `score_ntn_pagerank` from task 4 above. Demonstrate these functions with an example query that returns paper 19343057 as the top result."
   ]
  },
  {
   "cell_type": "code",
   "execution_count": 32,
   "metadata": {},
   "outputs": [
    {
     "name": "stdout",
     "output_type": "stream",
     "text": [
      "19343057 The gut microbiota shapes intestinal immune responses during health and disease. (score: 0.03293286498965594)\n",
      "25407511 Intestinal permeability--a new target for disease prevention and therapy. (score: 0.0017498533253366515)\n",
      "25651997 Dysbiosis of the gut microbiota in disease. (score: 0.0012011281501363386)\n",
      "19560575 Intestinal barrier function: molecular regulation and disease pathogenesis. (score: 0.0011190667242863097)\n",
      "18500229 Dendritic cells in intestinal immune regulation. (score: 0.0008684339173208186)\n",
      "16166805 Cytokine dysregulation, inflammation and well-being. (score: 0.0007423862544806832)\n",
      "22640807 Th17 cells: biology, pathogenesis of autoimmune and inflammatory diseases, and therapeutic strategies. (score: 0.0007353827549951188)\n",
      "15158604 Commensal bacteria (normal microflora), mucosal immunity and chronic inflammatory and autoimmune diseases. (score: 0.0007200758690606729)\n",
      "25386066 Intestinal microbiota in health and disease: role of bifidobacteria in gut homeostasis. (score: 0.00067163874481599)\n",
      "20395953 Store-operated CRAC channels: function in health and disease. (score: 0.0005408601435213797)\n"
     ]
    }
   ],
   "source": [
    "def query_ntn_pagerank(query_string):\n",
    "    terms = preprocess(tokenize(query_string))\n",
    "    keys = inverted_index[terms[0]]\n",
    "    for i in terms[1:]:\n",
    "        keys = keys.union(inverted_index[i])\n",
    "    for paper_id in sorted(keys, key=lambda i: score_ntn_pagerank(terms,i), reverse=True)[:10]:  \n",
    "        paper = Summaries[paper_id]  \n",
    "        print(str(paper_id) + ' ' + paper.title + ' (score: ' + str(score_ntn_pagerank(terms,paper_id)) + ')')  \n",
    "    \n",
    "query_ntn_pagerank(\"dysregulation symbiotic bowel\")"
   ]
  },
  {
   "cell_type": "markdown",
   "metadata": {},
   "source": [
    "# Submission"
   ]
  },
  {
   "cell_type": "markdown",
   "metadata": {},
   "source": [
    "Submit the answers to the assignment via Canvas as a modified version of this Notebook file (file with `.ipynb` extension) that includes your code and your answers.\n",
    "\n",
    "Before submitting, restart the kernel and re-run the complete code (**Kernel > Restart & Run All**), and then check whether your assignment code still works as expected.\n",
    "\n",
    "Don't forget to add your name, and remember that the assignments have to be done individually and group submissions are **not allowed**."
   ]
  }
 ],
 "metadata": {
  "kernelspec": {
   "display_name": "Python 3",
   "language": "python",
   "name": "python3"
  },
  "language_info": {
   "codemirror_mode": {
    "name": "ipython",
    "version": 3
   },
   "file_extension": ".py",
   "mimetype": "text/x-python",
   "name": "python",
   "nbconvert_exporter": "python",
   "pygments_lexer": "ipython3",
   "version": "3.7.3"
  }
 },
 "nbformat": 4,
 "nbformat_minor": 1
}
