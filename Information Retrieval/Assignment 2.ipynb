{
 "cells": [
  {
   "cell_type": "markdown",
   "metadata": {},
   "source": [
    "# Assignment 2: Building a Simple Index"
   ]
  },
  {
   "cell_type": "markdown",
   "metadata": {},
   "source": [
    "In this assignment, we will build a simple search index, which we will use later for Boolean retrieval. The assignment tasks are again at the bottom of this document."
   ]
  },
  {
   "cell_type": "markdown",
   "metadata": {},
   "source": [
    "## Loading the Data"
   ]
  },
  {
   "cell_type": "code",
   "execution_count": 1,
   "metadata": {},
   "outputs": [],
   "source": [
    "Summaries_file = 'data/allergy_Summaries.pkl.bz2'\n",
    "Abstracts_file = 'data/allergy_Abstracts.pkl.bz2'"
   ]
  },
  {
   "cell_type": "code",
   "execution_count": 2,
   "metadata": {},
   "outputs": [],
   "source": [
    "import pickle, bz2\n",
    "from collections import namedtuple\n",
    "\n",
    "Summaries = pickle.load( bz2.BZ2File( Summaries_file, 'rb' ) )\n",
    "\n",
    "paper = namedtuple( 'paper', ['title', 'authors', 'year', 'doi'] )\n",
    "\n",
    "for (id, paper_info) in Summaries.items():\n",
    "    Summaries[id] = paper( *paper_info )\n",
    "    \n",
    "Abstracts = pickle.load( bz2.BZ2File( Abstracts_file, 'rb' ) )"
   ]
  },
  {
   "cell_type": "markdown",
   "metadata": {},
   "source": [
    "Let's have a look at what the data looks like for an example of a paper:"
   ]
  },
  {
   "cell_type": "code",
   "execution_count": 3,
   "metadata": {},
   "outputs": [
    {
     "data": {
      "text/plain": [
       "paper(title='Type 2 innate lymphoid cells control eosinophil homeostasis.', authors=['Nussbaum JC', 'Van Dyken SJ', 'von Moltke J', 'Cheng LE', 'Mohapatra A', 'Molofsky AB', 'Thornton EE', 'Krummel MF', 'Chawla A', 'Liang HE', 'Locksley RM'], year=2013, doi='10.1038/nature12526')"
      ]
     },
     "execution_count": 3,
     "metadata": {},
     "output_type": "execute_result"
    }
   ],
   "source": [
    "Summaries[24037376]"
   ]
  },
  {
   "cell_type": "code",
   "execution_count": 4,
   "metadata": {},
   "outputs": [
    {
     "data": {
      "text/plain": [
       "'Eosinophils are specialized myeloid cells associated with allergy and helminth infections. Blood eosinophils demonstrate circadian cycling, as described over 80\\u2009years ago, and are abundant in the healthy gastrointestinal tract. Although a cytokine, interleukin (IL)-5, and chemokines such as eotaxins mediate eosinophil development and survival, and tissue recruitment, respectively, the processes underlying the basal regulation of these signals remain unknown. Here we show that serum IL-5 levels are maintained by long-lived type 2 innate lymphoid cells (ILC2) resident in peripheral tissues. ILC2 cells secrete IL-5 constitutively and are induced to co-express IL-13 during type 2 inflammation, resulting in localized eotaxin production and eosinophil accumulation. In the small intestine where eosinophils and eotaxin are constitutive, ILC2 cells co-express IL-5 and IL-13; this co-expression is enhanced after caloric intake. The circadian synchronizer vasoactive intestinal peptide also stimulates ILC2 cells through the VPAC2 receptor to release IL-5, linking eosinophil levels with metabolic cycling. Tissue ILC2 cells regulate basal eosinophilopoiesis and tissue eosinophil accumulation through constitutive and stimulated cytokine expression, and this dissociated regulation can be tuned by nutrient intake and central circadian rhythms. '"
      ]
     },
     "execution_count": 4,
     "metadata": {},
     "output_type": "execute_result"
    }
   ],
   "source": [
    "Abstracts[24037376]"
   ]
  },
  {
   "cell_type": "markdown",
   "metadata": {},
   "source": [
    "## Some Utility Functions"
   ]
  },
  {
   "cell_type": "markdown",
   "metadata": {},
   "source": [
    "We'll define some utility functions that allow us to tokenize a string into terms, perform linguistic preprocessing on a list of terms, as well as a function to display information about a paper in a nice way. Note that these tokenization and preprocessing functions are rather naive. We will improve them in a later assignment."
   ]
  },
  {
   "cell_type": "code",
   "execution_count": 5,
   "metadata": {},
   "outputs": [
    {
     "name": "stdout",
     "output_type": "stream",
     "text": [
      "['lorem', 'ipsum', 'dolor', 'sit', 'amet']\n"
     ]
    }
   ],
   "source": [
    "def tokenize(text):\n",
    "    \"\"\"\n",
    "    Function that tokenizes a string in a rather naive way. Can be extended later.\n",
    "    \"\"\"\n",
    "    return text.split(' ')\n",
    "\n",
    "def preprocess(tokens):\n",
    "    \"\"\"\n",
    "    Perform linguistic preprocessing on a list of tokens. Can be extended later.\n",
    "    \"\"\"\n",
    "    result = []\n",
    "    for token in tokens:\n",
    "        result.append(token.lower())\n",
    "    return result\n",
    "\n",
    "print(preprocess(tokenize(\"Lorem ipsum dolor sit AMET\")))"
   ]
  },
  {
   "cell_type": "code",
   "execution_count": 6,
   "metadata": {},
   "outputs": [
    {
     "data": {
      "text/html": [
       "<strong><a href=http://dx.doi.org/10.1038/nature12526>Type 2 innate lymphoid cells control eosinophil homeostasis.</a></strong><br>2013. Nussbaum JC, Van Dyken SJ, von Moltke J, Cheng LE, Mohapatra A, Molofsky AB, Thornton EE, Krummel MF, Chawla A, Liang HE, Locksley RM<br>[ID: 24037376]"
      ],
      "text/plain": [
       "<IPython.core.display.HTML object>"
      ]
     },
     "metadata": {},
     "output_type": "display_data"
    },
    {
     "data": {
      "text/html": [
       "<strong><a href=http://dx.doi.org/10.1038/nature12526>Type 2 innate lymphoid cells control eosinophil homeostasis.</a></strong><br>2013. Nussbaum JC, Van Dyken SJ, von Moltke J, Cheng LE, Mohapatra A, Molofsky AB, Thornton EE, Krummel MF, Chawla A, Liang HE, Locksley RM<br><small><strong>Abstract:</strong> <em>Eosinophils are specialized myeloid cells associated with allergy and helminth infections. Blood eosinophils demonstrate circadian cycling, as described over 80 years ago, and are abundant in the healthy gastrointestinal tract. Although a cytokine, interleukin (IL)-5, and chemokines such as eotaxins mediate eosinophil development and survival, and tissue recruitment, respectively, the processes underlying the basal regulation of these signals remain unknown. Here we show that serum IL-5 levels are maintained by long-lived type 2 innate lymphoid cells (ILC2) resident in peripheral tissues. ILC2 cells secrete IL-5 constitutively and are induced to co-express IL-13 during type 2 inflammation, resulting in localized eotaxin production and eosinophil accumulation. In the small intestine where eosinophils and eotaxin are constitutive, ILC2 cells co-express IL-5 and IL-13; this co-expression is enhanced after caloric intake. The circadian synchronizer vasoactive intestinal peptide also stimulates ILC2 cells through the VPAC2 receptor to release IL-5, linking eosinophil levels with metabolic cycling. Tissue ILC2 cells regulate basal eosinophilopoiesis and tissue eosinophil accumulation through constitutive and stimulated cytokine expression, and this dissociated regulation can be tuned by nutrient intake and central circadian rhythms. </em></small><br>[ID: 24037376]"
      ],
      "text/plain": [
       "<IPython.core.display.HTML object>"
      ]
     },
     "metadata": {},
     "output_type": "display_data"
    }
   ],
   "source": [
    "from IPython.display import display, HTML\n",
    "import re\n",
    "\n",
    "def display_summary( id, show_abstract=False, show_id=True, extra_text='' ):\n",
    "    \"\"\"\n",
    "    Function for printing a paper's summary through IPython's Rich Display System.\n",
    "    Trims long author lists, and adds a link to the paper's DOI (when available).\n",
    "    \"\"\"\n",
    "    s = Summaries[id]\n",
    "    lines = []\n",
    "    title = s.title\n",
    "    if s.doi != '':\n",
    "        title = '<a href=http://dx.doi.org/{:s}>{:s}</a>'.format(s.doi, title)\n",
    "    title = '<strong>' + title + '</strong>'\n",
    "    lines.append(title)\n",
    "    authors = ', '.join( s.authors[:20] ) + ('' if len(s.authors) <= 20 else ', ...')\n",
    "    lines.append(str(s.year) + '. ' + authors)\n",
    "    if (show_abstract):\n",
    "        lines.append('<small><strong>Abstract:</strong> <em>{:s}</em></small>'.format(Abstracts[id]))\n",
    "    if (show_id):\n",
    "        lines.append('[ID: {:d}]'.format(id))\n",
    "    if (extra_text != ''):\n",
    "         lines.append(extra_text)\n",
    "    display( HTML('<br>'.join(lines)) )\n",
    "\n",
    "display_summary(24037376)\n",
    "display_summary(24037376, show_abstract=True)"
   ]
  },
  {
   "cell_type": "markdown",
   "metadata": {},
   "source": [
    "## Creating our first index"
   ]
  },
  {
   "cell_type": "markdown",
   "metadata": {},
   "source": [
    "We will now create an _inverted index_ based on the words in the abstracts of the papers in our dataset.\n",
    "\n",
    "We will implement our inverted index as a **Python dictionary with terms as keys and posting lists as values**. For the posting lists, instead of using Python lists and then implementing the different operations on them ourselves, we will use **Python sets** and use the predefined set operations to process these posting \"lists\". This will also ensure that each document is added at most once per term. The use of Python sets is not the most efficient solution but will work for our purposes. (As an optional additional exercise, you can try to implement the posting lists as Python lists for this and the following assignments.)\n",
    "\n",
    "Not every paper in our dataset has an abstract; we will only index papers for which an abstract is available."
   ]
  },
  {
   "cell_type": "code",
   "execution_count": 7,
   "metadata": {},
   "outputs": [],
   "source": [
    "from collections import defaultdict\n",
    "\n",
    "inverted_index = defaultdict(set)\n",
    "\n",
    "# This may take a while:\n",
    "for (id, abstract) in Abstracts.items():\n",
    "    for term in preprocess(tokenize(abstract)):\n",
    "        inverted_index[term].add(id)"
   ]
  },
  {
   "cell_type": "markdown",
   "metadata": {},
   "source": [
    "Let's see what's in the index for the example term 'amsterdam':"
   ]
  },
  {
   "cell_type": "code",
   "execution_count": 8,
   "metadata": {},
   "outputs": [
    {
     "name": "stdout",
     "output_type": "stream",
     "text": [
      "{16513592, 18706961, 15504455}\n"
     ]
    }
   ],
   "source": [
    "print(inverted_index['amsterdam'])"
   ]
  },
  {
   "cell_type": "markdown",
   "metadata": {},
   "source": [
    "We can now use this inverted index to answer simple one-word queries, for example to show all papers that contain the word 'rotterdam':"
   ]
  },
  {
   "cell_type": "code",
   "execution_count": 9,
   "metadata": {},
   "outputs": [
    {
     "data": {
      "text/html": [
       "<strong><a href=http://dx.doi.org/10.1046/j.1442-2042.10.s1.10.x>Systemic aspects of interstitial cystitis, immunology and linkage with autoimmune disorders.</a></strong><br>2003. van de Merwe JP, Yamada T, Sakamoto Y<br><small><strong>Abstract:</strong> <em>It is recognized that interstitial cystitis (IC) is often associated with a number of diseases such as allergies, irritable bowel syndrome, fibromyalgia, inflammatory bowel disease (Crohn's disease and ulcerative colitis), systemic lupus erythematosus, and Sjögren's syndrome. The prevalence of allergies in IC is reported to be between 40 and 80% of patients. The background of the association is not known and does not seem to be the result of a generalized allergic constitution. Some report that treatment of allergy sometimes has a beneficial effect on bladder symptoms. An increased expression of certain growth factors (PD-ECGF, FGF, and VEGF) has been found in the bladder of IC patients. In addition, the expression of CD44 was significantly higher in ulcer type IC than in non-ulcer type. In general, these growth factors are soluble and diffusible under normal conditions but proteoglycans such as CD44 could bind to these growth factors. This may promote the accumulation of growth factors at the sites of inflammation. CD44 expression in ulcer type IC could explain the prolonged and stronger expression of GAG-binding growth factors that promote inflammation. In the Rotterdam study, a strong association between IC and Sjögren's syndrome is recognized. In this study, 28% of IC patients have definite or probable Sjögren's syndrome. This association is much stronger than is generally recognized. This could be due to difficulties in diagnosing Sjögren's syndrome since a diagnosis usually requires a high index of suspicion.</em></small><br>[ID: 14641413]"
      ],
      "text/plain": [
       "<IPython.core.display.HTML object>"
      ]
     },
     "metadata": {},
     "output_type": "display_data"
    },
    {
     "data": {
      "text/html": [
       "<strong><a href=http://dx.doi.org/10.1093/oxfordjournals.aje.a117332>Toxocara seroprevalence in 5-year-old elementary schoolchildren: relation with allergic asthma.</a></strong><br>1994. Buijs J, Borsboom G, van Gemund JJ, Hazebroek A, van Dongen PA, van Knapen F, Neijens HJ<br><small><strong>Abstract:</strong> <em>Toxocara seroprevalence and the relation between Toxocara seroprevalence and allergic asthma were investigated in Dutch schoolchildren aged 4-6 years. Data on Toxocara antibodies, allergen-specific immunoglobulin E, allergic manifestations, and risk factors (pets and playgrounds) were obtained from 235 children from The Hague and 477 from Rotterdam, the Netherlands. The surveys were carried out from September 1987 to January 1988 in The Hague and in March and April 1989 in Rotterdam. Logistic regression was used to evaluate putative relations. Toxocara seroprevalence was higher in The Hague (11%) than in Rotterdam (6%), but this difference was not quite significant. Seroprevalences varied widely among schools. No differences between socioeconomic categories or between the sexes were found. Occurrences of asthma/recurrent bronchitis and hospitalization due to asthma/recurrent bronchitis were significantly associated with seroprevalence. Furthermore, a marginally significant relation with eczema was found. Immunoglobulin E specific for inhaled allergens occurred significantly more often in the Toxocara-seropositive group. The risk factors investigated were not related to seroprevalence. It is suggested that Toxocara, among other environmental factors, may stimulate polyclonally immunoglobulin E production, including allergen-specific immunoglobulin E, and thus may contribute to the manifestation of allergic asthma and possibly of eczema in children predisposed to allergy.</em></small><br>[ID: 7977294]"
      ],
      "text/plain": [
       "<IPython.core.display.HTML object>"
      ]
     },
     "metadata": {},
     "output_type": "display_data"
    }
   ],
   "source": [
    "query_word = 'rotterdam'\n",
    "for i in inverted_index[query_word]:\n",
    "    display_summary(i, show_abstract=True)"
   ]
  },
  {
   "cell_type": "markdown",
   "metadata": {},
   "source": [
    "----------"
   ]
  },
  {
   "cell_type": "markdown",
   "metadata": {},
   "source": [
    "# Tasks"
   ]
  },
  {
   "cell_type": "markdown",
   "metadata": {},
   "source": [
    "**Your name:** Dragos Pop"
   ]
  },
  {
   "cell_type": "markdown",
   "metadata": {},
   "source": [
    "### Task 1\n",
    "\n",
    "Construct a function called `and_query` that takes as input a single string, consisting of one or more words, such that the function returns a list of matching documents. `and_query`, as its name suggests, should require that all query terms are present in the documents of the result list. Demonstrate the working of your function with an example (choose one that leads to fewer than 100 hits to not overblow this notebook file).\n",
    "\n",
    "(You can use the `tokenize` and `preprocess` functions we defined above to tokenize and preprocess your query. You can also exploit the fact that the posting lists are [sets](https://docs.python.org/3/library/stdtypes.html#set), which means you can easily perform set operations such as union, difference and intersect on them.)"
   ]
  },
  {
   "cell_type": "code",
   "execution_count": 10,
   "metadata": {
    "scrolled": true
   },
   "outputs": [
    {
     "name": "stdout",
     "output_type": "stream",
     "text": [
      "The IDs of the documants are:  {3349776, 11529378, 17458403, 14641413}\n"
     ]
    },
    {
     "data": {
      "text/html": [
       "<strong><a href=http://dx.doi.org/10.1111/j.1600-0536.1988.tb05486.x>Contact dermatitis in patients with leg ulcers. The prevalence of late positive reactions and evidence against systemic ampliative allergy.</a></strong><br>1988. Paramsothy Y, Collins M, Smith AG<br>[ID: 3349776]"
      ],
      "text/plain": [
       "<IPython.core.display.HTML object>"
      ]
     },
     "metadata": {},
     "output_type": "display_data"
    },
    {
     "name": "stdout",
     "output_type": "stream",
     "text": [
      "None\n"
     ]
    },
    {
     "data": {
      "text/html": [
       "<strong>Eradication rates of Helicobacter pylori between metronidazole-sensitive and metronidazole-resistant strains with metronidazole containing regimen in Thai patients with peptic ulcer disease.</strong><br>2001. Wongkusoltham P, Vilaichone RK, Kullavanijaya P, Phaosawadi K, Mahachai V<br>[ID: 11529378]"
      ],
      "text/plain": [
       "<IPython.core.display.HTML object>"
      ]
     },
     "metadata": {},
     "output_type": "display_data"
    },
    {
     "name": "stdout",
     "output_type": "stream",
     "text": [
      "None\n"
     ]
    },
    {
     "data": {
      "text/html": [
       "<strong><a href=http://dx.doi.org/10.1097/01.smj.0000257622.99973.74>Use of amiodarone in a patient with a shellfish allergy.</a></strong><br>2007. Beall JW, Mahan EF 3rd, Blau AB<br>[ID: 17458403]"
      ],
      "text/plain": [
       "<IPython.core.display.HTML object>"
      ]
     },
     "metadata": {},
     "output_type": "display_data"
    },
    {
     "name": "stdout",
     "output_type": "stream",
     "text": [
      "None\n"
     ]
    },
    {
     "data": {
      "text/html": [
       "<strong><a href=http://dx.doi.org/10.1046/j.1442-2042.10.s1.10.x>Systemic aspects of interstitial cystitis, immunology and linkage with autoimmune disorders.</a></strong><br>2003. van de Merwe JP, Yamada T, Sakamoto Y<br>[ID: 14641413]"
      ],
      "text/plain": [
       "<IPython.core.display.HTML object>"
      ]
     },
     "metadata": {},
     "output_type": "display_data"
    },
    {
     "name": "stdout",
     "output_type": "stream",
     "text": [
      "None\n"
     ]
    }
   ],
   "source": [
    "def and_query(s):\n",
    "    terms = preprocess(tokenize(s))\n",
    "    result = inverted_index[terms[0]]\n",
    "    for i in terms[1:]:\n",
    "        result = result.intersection(inverted_index[i])\n",
    "    return result\n",
    "\n",
    "q = and_query(\"and not does ulcer\")\n",
    "\n",
    "print(\"The IDs of the documants are: \", q)\n",
    "for i in q:\n",
    "    print(display_summary(i))"
   ]
  },
  {
   "cell_type": "markdown",
   "metadata": {},
   "source": [
    "### Task 2\n",
    "\n",
    "Construct a second function called `or_query` that works in the same way as `and_query` you just implemented, but returns as function value the documents that contain _at least one_ of the words in the query. Demonstrate the working of this second function also with an example (again, choose one that leads to fewer than 100 hits)."
   ]
  },
  {
   "cell_type": "code",
   "execution_count": 11,
   "metadata": {},
   "outputs": [
    {
     "name": "stdout",
     "output_type": "stream",
     "text": [
      "The IDs of the documants are:  {14641413, 29404169, 23230475, 1403659, 3349776, 2969879, 27298589, 16504864, 21425953, 9042979, 11141412, 9504293, 2786599, 26978856, 18041384, 15591472, 12171061, 15754300, 3987518, 6583623, 27256648, 10499144, 7977294, 9867089, 12476757, 15844694, 8280405, 15769438, 1854050, 1082212, 1972837, 8159596, 28512370, 8494195, 27014260, 21437048, 25902713, 31496316, 25228412, 1814914, 21063045, 2964357, 12964231, 21940106, 8775322, 8204699, 11529378, 29085866, 29463211, 2554027, 3418282, 24323003, 18077118, 9026497, 6474947, 18599877, 25796808, 27212250, 6507740, 25916130, 17458403, 22195684, 20487652, 18277092, 24011241, 12145898, 21575147, 30631403, 24979949, 12875245, 11339499, 16229364, 19452663}\n"
     ]
    },
    {
     "data": {
      "text/html": [
       "<strong><a href=http://dx.doi.org/10.1046/j.1442-2042.10.s1.10.x>Systemic aspects of interstitial cystitis, immunology and linkage with autoimmune disorders.</a></strong><br>2003. van de Merwe JP, Yamada T, Sakamoto Y<br>[ID: 14641413]"
      ],
      "text/plain": [
       "<IPython.core.display.HTML object>"
      ]
     },
     "metadata": {},
     "output_type": "display_data"
    },
    {
     "name": "stdout",
     "output_type": "stream",
     "text": [
      "None\n"
     ]
    },
    {
     "data": {
      "text/html": [
       "<strong><a href=http://dx.doi.org/10.5152/TurkThoracJ.2017.17002>Ranitidine-Induced Anaphylaxis in a Patient with Acute COPD Exacerbation.</a></strong><br>2017. Yılmaz İ, Türk M<br>[ID: 29404169]"
      ],
      "text/plain": [
       "<IPython.core.display.HTML object>"
      ]
     },
     "metadata": {},
     "output_type": "display_data"
    },
    {
     "name": "stdout",
     "output_type": "stream",
     "text": [
      "None\n"
     ]
    },
    {
     "data": {
      "text/html": [
       "<strong><a href=http://dx.doi.org/10.5681/joddd.2009.005>Two-year Prevalence of Minor Aphtha in Tabriz, Northwest Iran.</a></strong><br>2009. Sina M, Toorchi M, Hosseini SV, Zenouz AT, Mehdipour M<br>[ID: 23230475]"
      ],
      "text/plain": [
       "<IPython.core.display.HTML object>"
      ]
     },
     "metadata": {},
     "output_type": "display_data"
    },
    {
     "name": "stdout",
     "output_type": "stream",
     "text": [
      "None\n"
     ]
    },
    {
     "data": {
      "text/html": [
       "<strong><a href=http://dx.doi.org/10.1248/yakushi1947.112.4_259>[Effect of shikonin and its derivatives, pentaacetylated shikonin (MDS-004) on granuloma formation and delayed-type allergy in experimental animals].</a></strong><br>1992. Seto Y, Motoyoshi S, Nakamura H, Imuta J, Ishitoku T, Isayama S<br>[ID: 1403659]"
      ],
      "text/plain": [
       "<IPython.core.display.HTML object>"
      ]
     },
     "metadata": {},
     "output_type": "display_data"
    },
    {
     "name": "stdout",
     "output_type": "stream",
     "text": [
      "None\n"
     ]
    },
    {
     "data": {
      "text/html": [
       "<strong><a href=http://dx.doi.org/10.1111/j.1600-0536.1988.tb05486.x>Contact dermatitis in patients with leg ulcers. The prevalence of late positive reactions and evidence against systemic ampliative allergy.</a></strong><br>1988. Paramsothy Y, Collins M, Smith AG<br>[ID: 3349776]"
      ],
      "text/plain": [
       "<IPython.core.display.HTML object>"
      ]
     },
     "metadata": {},
     "output_type": "display_data"
    },
    {
     "name": "stdout",
     "output_type": "stream",
     "text": [
      "None\n"
     ]
    },
    {
     "data": {
      "text/html": [
       "<strong>[Contact allergy to dexpanthenol].</strong><br>1988. Schulze-Dirks A, Frosch PJ<br>[ID: 2969879]"
      ],
      "text/plain": [
       "<IPython.core.display.HTML object>"
      ]
     },
     "metadata": {},
     "output_type": "display_data"
    },
    {
     "name": "stdout",
     "output_type": "stream",
     "text": [
      "None\n"
     ]
    },
    {
     "data": {
      "text/html": [
       "<strong><a href=http://dx.doi.org/10.1016/j.sjbs.2014.10.001>Panacea seed \"Nigella\": A review focusing on regenerative effects for gastric ailments.</a></strong><br>2016. Khan SA, Khan AM, Karim S, Kamal MA, Damanhouri GA, Mirza Z<br>[ID: 27298589]"
      ],
      "text/plain": [
       "<IPython.core.display.HTML object>"
      ]
     },
     "metadata": {},
     "output_type": "display_data"
    },
    {
     "name": "stdout",
     "output_type": "stream",
     "text": [
      "None\n"
     ]
    },
    {
     "data": {
      "text/html": [
       "<strong><a href=http://dx.doi.org/10.1016/j.tripleo.2005.07.005>Oral challenge test for the diagnosis of gingival hypersensitivity to apple: a case report.</a></strong><br>2006. Ozcelik O, Haytac MC<br>[ID: 16504864]"
      ],
      "text/plain": [
       "<IPython.core.display.HTML object>"
      ]
     },
     "metadata": {},
     "output_type": "display_data"
    },
    {
     "name": "stdout",
     "output_type": "stream",
     "text": [
      "None\n"
     ]
    },
    {
     "data": {
      "text/html": [
       "<strong><a href=http://dx.doi.org/10.3109/15569527.2011.562270>Hydrogel allergic contact dermatitis and imidazolidinyl urea/diazolidinyl urea.</a></strong><br>2011. Carvalho R, Maio P, Amaro C, Santos R, Cardoso J<br>[ID: 21425953]"
      ],
      "text/plain": [
       "<IPython.core.display.HTML object>"
      ]
     },
     "metadata": {},
     "output_type": "display_data"
    },
    {
     "name": "stdout",
     "output_type": "stream",
     "text": [
      "None\n"
     ]
    },
    {
     "data": {
      "text/html": [
       "<strong><a href=http://dx.doi.org/10.1046/j.1365-2036.1997.130301000.x>Efficacy and tolerability of a one-week triple therapy consisting of pantoprazole, clarithromycin and amoxycillin for cure of Helicobacter pylori infection in patients with duodenal ulcer.</a></strong><br>1997. Labenz J, Tillenburg B, Weismüller J, Lütke A, Stolte M<br>[ID: 9042979]"
      ],
      "text/plain": [
       "<IPython.core.display.HTML object>"
      ]
     },
     "metadata": {},
     "output_type": "display_data"
    },
    {
     "name": "stdout",
     "output_type": "stream",
     "text": [
      "None\n"
     ]
    },
    {
     "data": {
      "text/html": [
       "<strong><a href=http://dx.doi.org/10.1016/s0025-7753(00)71649-6>[High eradication rates in Helicobacter pylori infection in patients with duodenal ulcer who failed previous eradication therapy].</a></strong><br>2000. Sicilia B, Sierra E, Lago A, Villar M, García S, Gomollón F<br>[ID: 11141412]"
      ],
      "text/plain": [
       "<IPython.core.display.HTML object>"
      ]
     },
     "metadata": {},
     "output_type": "display_data"
    },
    {
     "name": "stdout",
     "output_type": "stream",
     "text": [
      "None\n"
     ]
    },
    {
     "data": {
      "text/html": [
       "<strong>Vegetable consumption and risk of chronic disease.</strong><br>1998. La Vecchia C, Decarli A, Pagano R<br>[ID: 9504293]"
      ],
      "text/plain": [
       "<IPython.core.display.HTML object>"
      ]
     },
     "metadata": {},
     "output_type": "display_data"
    },
    {
     "name": "stdout",
     "output_type": "stream",
     "text": [
      "None\n"
     ]
    },
    {
     "data": {
      "text/html": [
       "<strong><a href=http://dx.doi.org/10.1016/0047-6374(89)90087-0>Lymphocyte immunophenotyping in an elderly population: age, sex and medication effects--a flow cytometry study.</a></strong><br>1989. Dworsky R, Paganini-Hill A, Ducey B, Hechinger M, Parker JW<br>[ID: 2786599]"
      ],
      "text/plain": [
       "<IPython.core.display.HTML object>"
      ]
     },
     "metadata": {},
     "output_type": "display_data"
    },
    {
     "name": "stdout",
     "output_type": "stream",
     "text": [
      "None\n"
     ]
    },
    {
     "data": {
      "text/html": [
       "<strong>A Prospective, Descriptive Study to Assess the Clinical Benefits of Using Calendula officinalis Hydroglycolic Extract for the Topical Treatment of Diabetic Foot Ulcers.</strong><br>2016. Buzzi M, de Freitas F, Winter M<br>[ID: 26978856]"
      ],
      "text/plain": [
       "<IPython.core.display.HTML object>"
      ]
     },
     "metadata": {},
     "output_type": "display_data"
    },
    {
     "name": "stdout",
     "output_type": "stream",
     "text": [
      "None\n"
     ]
    },
    {
     "data": {
      "text/html": [
       "<strong>Contact allergy to special and standard allergens in patients with venous ulcers.</strong><br>2007. Tomljanović-Veselski M, Lipozencić J, Lugović L<br>[ID: 18041384]"
      ],
      "text/plain": [
       "<IPython.core.display.HTML object>"
      ]
     },
     "metadata": {},
     "output_type": "display_data"
    },
    {
     "name": "stdout",
     "output_type": "stream",
     "text": [
      "None\n"
     ]
    },
    {
     "data": {
      "text/html": [
       "<strong><a href=http://dx.doi.org/10.1164/rccm.200405-621WS>Clinical issues and research in respiratory failure from severe acute respiratory syndrome.</a></strong><br>2005. Levy MM, Baylor MS, Bernard GR, Fowler R, Franks TJ, Hayden FG, Helfand R, Lapinsky SE, Martin TR, Niederman MS, Rubenfeld GD, Slutsky AS, Stewart TE, Styrt BA, Thompson BT, Harabin AL, National Heart, Lung, and Blood Institute., Centers for Disease Control and Prevention., Institute of Allergy and Infectious Diseases.<br>[ID: 15591472]"
      ],
      "text/plain": [
       "<IPython.core.display.HTML object>"
      ]
     },
     "metadata": {},
     "output_type": "display_data"
    },
    {
     "name": "stdout",
     "output_type": "stream",
     "text": [
      "None\n"
     ]
    },
    {
     "data": {
      "text/html": [
       "<strong><a href=http://dx.doi.org/10.1016/s0025-7125(02)00007-x>Pharmacologic treatments of dementia.</a></strong><br>2002. Bonner LT, Peskind ER<br>[ID: 12171061]"
      ],
      "text/plain": [
       "<IPython.core.display.HTML object>"
      ]
     },
     "metadata": {},
     "output_type": "display_data"
    },
    {
     "name": "stdout",
     "output_type": "stream",
     "text": [
      "None\n"
     ]
    },
    {
     "data": {
      "text/html": [
       "<strong><a href=http://dx.doi.org/10.1016/j.humpath.2004.11.005>Vascular lesion in a patient of chronic active Epstein-Barr virus infection with hypersensitivity to mosquito bites: vasculitis induced by mosquito bite with the infiltration of nonneoplastic Epstein-Barr virus-positive cells and subsequent development of natural killer/T-cell lymphoma with angiodestruction.</a></strong><br>2005. Kanno H, Onodera H, Endo M, Maeda F, Chida S, Akasaka T, Sawai T<br>[ID: 15754300]"
      ],
      "text/plain": [
       "<IPython.core.display.HTML object>"
      ]
     },
     "metadata": {},
     "output_type": "display_data"
    },
    {
     "name": "stdout",
     "output_type": "stream",
     "text": [
      "None\n"
     ]
    },
    {
     "data": {
      "text/html": [
       "<strong>[Contact allergy to fludroxycortid and cetyl alcohol].</strong><br>1985. Hausen BM, Kulenkamp D<br>[ID: 3987518]"
      ],
      "text/plain": [
       "<IPython.core.display.HTML object>"
      ]
     },
     "metadata": {},
     "output_type": "display_data"
    },
    {
     "name": "stdout",
     "output_type": "stream",
     "text": [
      "None\n"
     ]
    },
    {
     "data": {
      "text/html": [
       "<strong><a href=http://dx.doi.org/10.1016/0030-4220(84)90205-6>Allergy to dental gold.</a></strong><br>1984. Wiesenfeld D, Ferguson MM, Forsyth A, MacDonald DG<br>[ID: 6583623]"
      ],
      "text/plain": [
       "<IPython.core.display.HTML object>"
      ]
     },
     "metadata": {},
     "output_type": "display_data"
    },
    {
     "name": "stdout",
     "output_type": "stream",
     "text": [
      "None\n"
     ]
    },
    {
     "data": {
      "text/html": [
       "<strong><a href=http://dx.doi.org/10.5694/mja16.00104>Epidemiology, clinical impacts and current clinical management of Helicobacter pylori infection.</a></strong><br>2016. Mitchell H, Katelaris P<br>[ID: 27256648]"
      ],
      "text/plain": [
       "<IPython.core.display.HTML object>"
      ]
     },
     "metadata": {},
     "output_type": "display_data"
    },
    {
     "name": "stdout",
     "output_type": "stream",
     "text": [
      "None\n"
     ]
    },
    {
     "data": {
      "text/html": [
       "<strong>Pharmacovigilance: characteristics of the most widely used drugs in Bulgaria.</strong><br>1999. Getov I, Dimitrova Z<br>[ID: 10499144]"
      ],
      "text/plain": [
       "<IPython.core.display.HTML object>"
      ]
     },
     "metadata": {},
     "output_type": "display_data"
    },
    {
     "name": "stdout",
     "output_type": "stream",
     "text": [
      "None\n"
     ]
    },
    {
     "data": {
      "text/html": [
       "<strong><a href=http://dx.doi.org/10.1093/oxfordjournals.aje.a117332>Toxocara seroprevalence in 5-year-old elementary schoolchildren: relation with allergic asthma.</a></strong><br>1994. Buijs J, Borsboom G, van Gemund JJ, Hazebroek A, van Dongen PA, van Knapen F, Neijens HJ<br>[ID: 7977294]"
      ],
      "text/plain": [
       "<IPython.core.display.HTML object>"
      ]
     },
     "metadata": {},
     "output_type": "display_data"
    },
    {
     "name": "stdout",
     "output_type": "stream",
     "text": [
      "None\n"
     ]
    },
    {
     "data": {
      "text/html": [
       "<strong><a href=http://dx.doi.org/10.1080/00365529850172467>Positive association between Helicobacter pylori infection and food allergy in children.</a></strong><br>1998. Corrado G, Luzzi I, Lucarelli S, Frediani T, Pacchiarotti C, Cavaliere M, Rea P, Cardi E<br>[ID: 9867089]"
      ],
      "text/plain": [
       "<IPython.core.display.HTML object>"
      ]
     },
     "metadata": {},
     "output_type": "display_data"
    },
    {
     "name": "stdout",
     "output_type": "stream",
     "text": [
      "None\n"
     ]
    },
    {
     "data": {
      "text/html": [
       "<strong>[Safety of celecoxib administration].</strong><br>2002. Babić-Naglić D<br>[ID: 12476757]"
      ],
      "text/plain": [
       "<IPython.core.display.HTML object>"
      ]
     },
     "metadata": {},
     "output_type": "display_data"
    },
    {
     "name": "stdout",
     "output_type": "stream",
     "text": [
      "None\n"
     ]
    },
    {
     "data": {
      "text/html": [
       "<strong><a href=http://dx.doi.org/10.1007/s10620-005-2549-1>High eradication rates of Helicobacter pylori infection with first- and second-line combination of esomeprazole, tetracycline, and metronidazole in patients allergic to penicillin.</a></strong><br>2005. Rodríguez-Torres M, Salgado-Mercado R, Ríos-Bedoya CF, Aponte-Rivera E, Marxuach-Cuétara AM, Rodríguez-Orengo JF, Fernández-Carbia A<br>[ID: 15844694]"
      ],
      "text/plain": [
       "<IPython.core.display.HTML object>"
      ]
     },
     "metadata": {},
     "output_type": "display_data"
    },
    {
     "name": "stdout",
     "output_type": "stream",
     "text": [
      "None\n"
     ]
    },
    {
     "data": {
      "text/html": [
       "<strong><a href=http://dx.doi.org/10.2165/00002018-199309050-00006>A risk-benefit appraisal of injectable NSAIDs in the management of postoperative pain.</a></strong><br>1993. Nuutinen LS, Laitinen JO, Salomäki TE<br>[ID: 8280405]"
      ],
      "text/plain": [
       "<IPython.core.display.HTML object>"
      ]
     },
     "metadata": {},
     "output_type": "display_data"
    },
    {
     "name": "stdout",
     "output_type": "stream",
     "text": [
      "None\n"
     ]
    },
    {
     "data": {
      "text/html": [
       "<strong>Diagnosis and Treatment of Helicobacter pylori.</strong><br>2005. Go MF<br>[ID: 15769438]"
      ],
      "text/plain": [
       "<IPython.core.display.HTML object>"
      ]
     },
     "metadata": {},
     "output_type": "display_data"
    },
    {
     "name": "stdout",
     "output_type": "stream",
     "text": [
      "None\n"
     ]
    },
    {
     "data": {
      "text/html": [
       "<strong><a href=http://dx.doi.org/10.1016/s0750-7658(05)80829-9>[Peripheral nerve block during ambulatory surgery of varicose veins].</a></strong><br>1991. Giorgi P, Bornet P, Giuge M, Blanchard JC, Ksouri S<br>[ID: 1854050]"
      ],
      "text/plain": [
       "<IPython.core.display.HTML object>"
      ]
     },
     "metadata": {},
     "output_type": "display_data"
    },
    {
     "name": "stdout",
     "output_type": "stream",
     "text": [
      "None\n"
     ]
    },
    {
     "data": {
      "text/html": [
       "<strong>[Allergic gastric hemorrhage in a case of milk hypersensitivity].</strong><br>1975. Nemes T, Mezödy A, Kubinyi K<br>[ID: 1082212]"
      ],
      "text/plain": [
       "<IPython.core.display.HTML object>"
      ]
     },
     "metadata": {},
     "output_type": "display_data"
    },
    {
     "name": "stdout",
     "output_type": "stream",
     "text": [
      "None\n"
     ]
    },
    {
     "data": {
      "text/html": [
       "<strong>A randomized trial of two occlusive dressings in the treatment of leg ulcers.</strong><br>1990. Brandrup F, Menné T, Agren MS, Strömberg HE, Holst R, Frisén M<br>[ID: 1972837]"
      ],
      "text/plain": [
       "<IPython.core.display.HTML object>"
      ]
     },
     "metadata": {},
     "output_type": "display_data"
    },
    {
     "name": "stdout",
     "output_type": "stream",
     "text": [
      "None\n"
     ]
    },
    {
     "data": {
      "text/html": [
       "<strong><a href=http://dx.doi.org/10.1002/j.1875-9114.1994.tb02796.x>Angioedema and urticaria associated with omeprazole confirmed by drug rechallenge.</a></strong><br>1994. Bowlby HA, Dickens GR<br>[ID: 8159596]"
      ],
      "text/plain": [
       "<IPython.core.display.HTML object>"
      ]
     },
     "metadata": {},
     "output_type": "display_data"
    },
    {
     "name": "stdout",
     "output_type": "stream",
     "text": [
      "None\n"
     ]
    },
    {
     "data": {
      "text/html": [
       "<strong><a href=http://dx.doi.org/10.13075/mp.5893.00612>Occupational contact allergy to omeprazole and ranitidine.</a></strong><br>2017. Herrera-Mozo I, Sanz-Gallen P, Martí-Amengual G<br>[ID: 28512370]"
      ],
      "text/plain": [
       "<IPython.core.display.HTML object>"
      ]
     },
     "metadata": {},
     "output_type": "display_data"
    },
    {
     "name": "stdout",
     "output_type": "stream",
     "text": [
      "None\n"
     ]
    },
    {
     "data": {
      "text/html": [
       "<strong><a href=http://dx.doi.org/10.1164/ajrccm/147.6_Pt_2.S2>Medical chronobiology: concepts and applications.</a></strong><br>1993. Smolensky MH, D'Alonzo GE<br>[ID: 8494195]"
      ],
      "text/plain": [
       "<IPython.core.display.HTML object>"
      ]
     },
     "metadata": {},
     "output_type": "display_data"
    },
    {
     "name": "stdout",
     "output_type": "stream",
     "text": [
      "None\n"
     ]
    },
    {
     "data": {
      "text/html": [
       "<strong><a href=http://dx.doi.org/10.3389/fimmu.2016.00071>Helicobacter pylori-Mediated Protection from Allergy Is Associated with IL-10-Secreting Peripheral Blood Regulatory T Cells.</a></strong><br>2016. Hussain K, Letley DP, Greenaway AB, Kenefeck R, Winter JA, Tomlinson W, Rhead J, Staples E, Kaneko K, Atherton JC, Robinson K<br>[ID: 27014260]"
      ],
      "text/plain": [
       "<IPython.core.display.HTML object>"
      ]
     },
     "metadata": {},
     "output_type": "display_data"
    },
    {
     "name": "stdout",
     "output_type": "stream",
     "text": [
      "None\n"
     ]
    },
    {
     "data": {
      "text/html": [
       "<strong><a href=http://dx.doi.org/10.2147/JAA.S8971>The effect of Helicobacter pylori on asthma and allergy.</a></strong><br>2010. Amedei A, Codolo G, Del Prete G, de Bernard M, D'Elios MM<br>[ID: 21437048]"
      ],
      "text/plain": [
       "<IPython.core.display.HTML object>"
      ]
     },
     "metadata": {},
     "output_type": "display_data"
    },
    {
     "name": "stdout",
     "output_type": "stream",
     "text": [
      "None\n"
     ]
    },
    {
     "data": {
      "text/html": [
       "<strong>﻿Daptomycin for the treatment of osteomyelitis associated with a diabetic foot ulcer﻿.</strong><br>2009. Dos Remedios E<br>[ID: 25902713]"
      ],
      "text/plain": [
       "<IPython.core.display.HTML object>"
      ]
     },
     "metadata": {},
     "output_type": "display_data"
    },
    {
     "name": "stdout",
     "output_type": "stream",
     "text": [
      "None\n"
     ]
    },
    {
     "data": {
      "text/html": [
       "<strong><a href=http://dx.doi.org/10.1177/1534734619870680>Periulcer Foam Sclerotherapy Injection in Chronic Venous Leg Ulcers Using Near-Infrared Laser for Vein Visualization.</a></strong><br>2019. Kamhawy AH, Elbarbary AH, Elhenidy MA, Elwagih AMM<br>[ID: 31496316]"
      ],
      "text/plain": [
       "<IPython.core.display.HTML object>"
      ]
     },
     "metadata": {},
     "output_type": "display_data"
    },
    {
     "name": "stdout",
     "output_type": "stream",
     "text": [
      "None\n"
     ]
    },
    {
     "data": {
      "text/html": [
       "<strong><a href=http://dx.doi.org/10.1186/1475-2891-13-93>Eosinophilic gastroenteritis with refractory ulcer disease and gastrointestinal bleeding as a rare manifestation of seronegative gastrointestinal food allergy.</a></strong><br>2014. Raithel M, Hahn M, Donhuijsen K, Hagel AF, Nägel A, Rieker RJ, Neurath MF, Reinshagen M<br>[ID: 25228412]"
      ],
      "text/plain": [
       "<IPython.core.display.HTML object>"
      ]
     },
     "metadata": {},
     "output_type": "display_data"
    },
    {
     "name": "stdout",
     "output_type": "stream",
     "text": [
      "None\n"
     ]
    },
    {
     "data": {
      "text/html": [
       "<strong>Insulin allergy.</strong><br>1991. Rau NR, Prakash PS, Sudha V, Nagaraj MV<br>[ID: 1814914]"
      ],
      "text/plain": [
       "<IPython.core.display.HTML object>"
      ]
     },
     "metadata": {},
     "output_type": "display_data"
    },
    {
     "name": "stdout",
     "output_type": "stream",
     "text": [
      "None\n"
     ]
    },
    {
     "data": {
      "text/html": [
       "<strong>Recurrent aphthous stomatitis caused by food allergy.</strong><br>2010. Wardhana, Datau EA<br>[ID: 21063045]"
      ],
      "text/plain": [
       "<IPython.core.display.HTML object>"
      ]
     },
     "metadata": {},
     "output_type": "display_data"
    },
    {
     "name": "stdout",
     "output_type": "stream",
     "text": [
      "None\n"
     ]
    },
    {
     "data": {
      "text/html": [
       "<strong>[Contact allergy to dexpanthenol].</strong><br>1987. Keilig W<br>[ID: 2964357]"
      ],
      "text/plain": [
       "<IPython.core.display.HTML object>"
      ]
     },
     "metadata": {},
     "output_type": "display_data"
    },
    {
     "name": "stdout",
     "output_type": "stream",
     "text": [
      "None\n"
     ]
    },
    {
     "data": {
      "text/html": [
       "<strong><a href=http://dx.doi.org/10.12968/jowc.2001.10.1.26042>Using a topical anaesthetic cream to reduce pain during sharp debridement of chronic leg ulcers.</a></strong><br>2001. Rosenthal D, Murphy F, Gottschalk R, Baxter M, Lycka B, Nevin K<br>[ID: 12964231]"
      ],
      "text/plain": [
       "<IPython.core.display.HTML object>"
      ]
     },
     "metadata": {},
     "output_type": "display_data"
    },
    {
     "name": "stdout",
     "output_type": "stream",
     "text": [
      "None\n"
     ]
    },
    {
     "data": {
      "text/html": [
       "<strong><a href=http://dx.doi.org/10.1016/j.prp.2011.08.001>Clinical value of duodenal biopsies--beyond the diagnosis of coeliac disease.</a></strong><br>2011. Walker MM, Talley NJ<br>[ID: 21940106]"
      ],
      "text/plain": [
       "<IPython.core.display.HTML object>"
      ]
     },
     "metadata": {},
     "output_type": "display_data"
    },
    {
     "name": "stdout",
     "output_type": "stream",
     "text": [
      "None\n"
     ]
    },
    {
     "data": {
      "text/html": [
       "<strong>Carcionoembryonic antigen and immunoglobulin IgE in coeliac disease, food allergy and dudenal ulcer disease in children.</strong><br>1995. Romańczuk W, Nizankowska-Błaz T, Korczowski R, Czosnek R, Abramowicz T, Wisłocka I, Ołpiński M<br>[ID: 8775322]"
      ],
      "text/plain": [
       "<IPython.core.display.HTML object>"
      ]
     },
     "metadata": {},
     "output_type": "display_data"
    },
    {
     "name": "stdout",
     "output_type": "stream",
     "text": [
      "None\n"
     ]
    },
    {
     "data": {
      "text/html": [
       "<strong>[Specific IgE in the gastric and duodenal mucosa. An epiphenomenon or pathogenetic mechanism of some forms of \"peptic\" ulcer?].</strong><br>1994. De Lazzari F, Venturi C, Fregona I, Galliani EA, Bortolami M, Violato D, Floreani AR, Plebani M, Naccarato R<br>[ID: 8204699]"
      ],
      "text/plain": [
       "<IPython.core.display.HTML object>"
      ]
     },
     "metadata": {},
     "output_type": "display_data"
    },
    {
     "name": "stdout",
     "output_type": "stream",
     "text": [
      "None\n"
     ]
    },
    {
     "data": {
      "text/html": [
       "<strong>Eradication rates of Helicobacter pylori between metronidazole-sensitive and metronidazole-resistant strains with metronidazole containing regimen in Thai patients with peptic ulcer disease.</strong><br>2001. Wongkusoltham P, Vilaichone RK, Kullavanijaya P, Phaosawadi K, Mahachai V<br>[ID: 11529378]"
      ],
      "text/plain": [
       "<IPython.core.display.HTML object>"
      ]
     },
     "metadata": {},
     "output_type": "display_data"
    },
    {
     "name": "stdout",
     "output_type": "stream",
     "text": [
      "None\n"
     ]
    },
    {
     "data": {
      "text/html": [
       "<strong><a href=http://dx.doi.org/10.1177/2333794X17736700>Risk Factors for Thyroid Cancer in Systemic Lupus Erythematosus.</a></strong><br>2017. Kawano Y, Nambu M, Uejima Y, Sato S, Suganuma E, Takano T, Oh-Ishi T<br>[ID: 29085866]"
      ],
      "text/plain": [
       "<IPython.core.display.HTML object>"
      ]
     },
     "metadata": {},
     "output_type": "display_data"
    },
    {
     "name": "stdout",
     "output_type": "stream",
     "text": [
      "None\n"
     ]
    },
    {
     "data": {
      "text/html": [
       "<strong><a href=http://dx.doi.org/10.1186/s12877-018-0744-0>TEAM-UP for quality: a cluster randomized controlled trial protocol focused on preventing pressure ulcers through repositioning frequency and precipitating factors.</a></strong><br>2018. Yap TL, Kennerly SM, Horn SD, Bergstrom N, Datta S, Colon-Emeric C<br>[ID: 29463211]"
      ],
      "text/plain": [
       "<IPython.core.display.HTML object>"
      ]
     },
     "metadata": {},
     "output_type": "display_data"
    },
    {
     "name": "stdout",
     "output_type": "stream",
     "text": [
      "None\n"
     ]
    },
    {
     "data": {
      "text/html": [
       "<strong>Poor prognoses following left hepatic trisegmentectomies for cancer.</strong><br>1989. Hasegawa H, Yamasaki S, Makuuchi M, Shimamura Y, Gunvén P<br>[ID: 2554027]"
      ],
      "text/plain": [
       "<IPython.core.display.HTML object>"
      ]
     },
     "metadata": {},
     "output_type": "display_data"
    },
    {
     "name": "stdout",
     "output_type": "stream",
     "text": [
      "None\n"
     ]
    },
    {
     "data": {
      "text/html": [
       "<strong><a href=http://dx.doi.org/10.1136/jech.42.1.24>Body weight and the prevalence of chronic diseases.</a></strong><br>1988. Negri E, Pagano R, Decarli A, La Vecchia C<br>[ID: 3418282]"
      ],
      "text/plain": [
       "<IPython.core.display.HTML object>"
      ]
     },
     "metadata": {},
     "output_type": "display_data"
    },
    {
     "name": "stdout",
     "output_type": "stream",
     "text": [
      "None\n"
     ]
    },
    {
     "data": {
      "text/html": [
       "<strong>Nutrition and gastrointestinal disorders.</strong><br>1992. Lin SK, Lambert JR, Wahlqvist ML<br>[ID: 24323003]"
      ],
      "text/plain": [
       "<IPython.core.display.HTML object>"
      ]
     },
     "metadata": {},
     "output_type": "display_data"
    },
    {
     "name": "stdout",
     "output_type": "stream",
     "text": [
      "None\n"
     ]
    },
    {
     "data": {
      "text/html": [
       "<strong><a href=http://dx.doi.org/10.1016/j.jep.2007.10.042>Anti-allergic activity of compounds from Kaempferia parviflora.</a></strong><br>2008. Tewtrakul S, Subhadhirasakul S, Kummee S<br>[ID: 18077118]"
      ],
      "text/plain": [
       "<IPython.core.display.HTML object>"
      ]
     },
     "metadata": {},
     "output_type": "display_data"
    },
    {
     "name": "stdout",
     "output_type": "stream",
     "text": [
      "None\n"
     ]
    },
    {
     "data": {
      "text/html": [
       "<strong>[Chronic venous insufficiency--from pathophysiology to therapy. 4: Treatment of ulcus cruris--therapy guidelines].</strong><br>1996. Peschen M, Petter O, Vanscheidt W<br>[ID: 9026497]"
      ],
      "text/plain": [
       "<IPython.core.display.HTML object>"
      ]
     },
     "metadata": {},
     "output_type": "display_data"
    },
    {
     "name": "stdout",
     "output_type": "stream",
     "text": [
      "None\n"
     ]
    },
    {
     "data": {
      "text/html": [
       "<strong>[Allergic reactions in patients with peptic ulcer; incidence of food and drug allergy].</strong><br>1984. Budagovskaia VN, Voĭtko NE<br>[ID: 6474947]"
      ],
      "text/plain": [
       "<IPython.core.display.HTML object>"
      ]
     },
     "metadata": {},
     "output_type": "display_data"
    },
    {
     "name": "stdout",
     "output_type": "stream",
     "text": [
      "None\n"
     ]
    },
    {
     "data": {
      "text/html": [
       "<strong><a href=http://dx.doi.org/10.1177/0009922808320796>Food refusal as an unusual presentation in a toddler with duodenal web.</a></strong><br>2009. Karnsakul W, Gillespie S, Cannon ML, Kumar T<br>[ID: 18599877]"
      ],
      "text/plain": [
       "<IPython.core.display.HTML object>"
      ]
     },
     "metadata": {},
     "output_type": "display_data"
    },
    {
     "name": "stdout",
     "output_type": "stream",
     "text": [
      "None\n"
     ]
    },
    {
     "data": {
      "text/html": [
       "<strong>Anamnestic findings from patients with recurrent aphthous stomatitis.</strong><br>2014. Bratel J, Hakeberg M<br>[ID: 25796808]"
      ],
      "text/plain": [
       "<IPython.core.display.HTML object>"
      ]
     },
     "metadata": {},
     "output_type": "display_data"
    },
    {
     "name": "stdout",
     "output_type": "stream",
     "text": [
      "None\n"
     ]
    },
    {
     "data": {
      "text/html": [
       "<strong><a href=http://dx.doi.org/10.1111/iwj.12589>The Bagautdinov dressing method: negative pressure wound therapy in a patient with an allergy to acrylate adhesive.</a></strong><br>2017. Daar DA, Wirth GA, Evans GR, Carmean M, Gordon IL<br>[ID: 27212250]"
      ],
      "text/plain": [
       "<IPython.core.display.HTML object>"
      ]
     },
     "metadata": {},
     "output_type": "display_data"
    },
    {
     "name": "stdout",
     "output_type": "stream",
     "text": [
      "None\n"
     ]
    },
    {
     "data": {
      "text/html": [
       "<strong><a href=http://dx.doi.org/10.1016/0002-9610(84)90421-5>Presidential address. Systemic effects of smoking.</a></strong><br>1984. Read RC<br>[ID: 6507740]"
      ],
      "text/plain": [
       "<IPython.core.display.HTML object>"
      ]
     },
     "metadata": {},
     "output_type": "display_data"
    },
    {
     "name": "stdout",
     "output_type": "stream",
     "text": [
      "None\n"
     ]
    },
    {
     "data": {
      "text/html": [
       "<strong>[Mucosal immune response to Helicobacter pylori in children with gastroduodenal diseases and allergy].</strong><br>2014. Mazurina SA, Ilintseva NV, Gervazieva VB<br>[ID: 25916130]"
      ],
      "text/plain": [
       "<IPython.core.display.HTML object>"
      ]
     },
     "metadata": {},
     "output_type": "display_data"
    },
    {
     "name": "stdout",
     "output_type": "stream",
     "text": [
      "None\n"
     ]
    },
    {
     "data": {
      "text/html": [
       "<strong><a href=http://dx.doi.org/10.1097/01.smj.0000257622.99973.74>Use of amiodarone in a patient with a shellfish allergy.</a></strong><br>2007. Beall JW, Mahan EF 3rd, Blau AB<br>[ID: 17458403]"
      ],
      "text/plain": [
       "<IPython.core.display.HTML object>"
      ]
     },
     "metadata": {},
     "output_type": "display_data"
    },
    {
     "name": "stdout",
     "output_type": "stream",
     "text": [
      "None\n"
     ]
    },
    {
     "data": {
      "text/html": [
       "<strong><a href=http://dx.doi.org/10.2500/aap.2011.32.3457>Aspirin therapy in aspirin-exacerbated respiratory disease: a risk-benefit analysis for the practicing allergist.</a></strong><br>2011. Baker TW, Quinn JM<br>[ID: 22195684]"
      ],
      "text/plain": [
       "<IPython.core.display.HTML object>"
      ]
     },
     "metadata": {},
     "output_type": "display_data"
    },
    {
     "name": "stdout",
     "output_type": "stream",
     "text": [
      "None\n"
     ]
    },
    {
     "data": {
      "text/html": [
       "<strong>Eosinophilic cellulitis and panniculitis with generalized vesicular pustular id reaction after a molten aluminum burn.</strong><br>2010. Chao SC, Lee YP, Lee JY<br>[ID: 20487652]"
      ],
      "text/plain": [
       "<IPython.core.display.HTML object>"
      ]
     },
     "metadata": {},
     "output_type": "display_data"
    },
    {
     "name": "stdout",
     "output_type": "stream",
     "text": [
      "None\n"
     ]
    },
    {
     "data": {
      "text/html": [
       "<strong>[Relevance of examination and treatment of the most common gastrointestinal disorders in children in Lithuania during the last decade].</strong><br>2008. Labanauskas L, Kucinskiene R, Urbonas V, Rokaite R, Libikaite N<br>[ID: 18277092]"
      ],
      "text/plain": [
       "<IPython.core.display.HTML object>"
      ]
     },
     "metadata": {},
     "output_type": "display_data"
    },
    {
     "name": "stdout",
     "output_type": "stream",
     "text": [
      "None\n"
     ]
    },
    {
     "data": {
      "text/html": [
       "<strong><a href=http://dx.doi.org/10.1111/hel.12074>Helicobacter pylori and nonmalignant diseases.</a></strong><br>2013. den Hollander WJ, Sostres C, Kuipers EJ, Lanas A<br>[ID: 24011241]"
      ],
      "text/plain": [
       "<IPython.core.display.HTML object>"
      ]
     },
     "metadata": {},
     "output_type": "display_data"
    },
    {
     "name": "stdout",
     "output_type": "stream",
     "text": [
      "None\n"
     ]
    },
    {
     "data": {
      "text/html": [
       "<strong>[Factors in forming ulcers in children].</strong><br>2002. Pazylova SA<br>[ID: 12145898]"
      ],
      "text/plain": [
       "<IPython.core.display.HTML object>"
      ]
     },
     "metadata": {},
     "output_type": "display_data"
    },
    {
     "name": "stdout",
     "output_type": "stream",
     "text": [
      "None\n"
     ]
    },
    {
     "data": {
      "text/html": [
       "<strong><a href=http://dx.doi.org/10.1186/1447-056X-10-6>Contact dermatitis presenting as non-healing wound: case report.</a></strong><br>2011. Leelavathi M, Le Y, Tohid H, Hasliza A<br>[ID: 21575147]"
      ],
      "text/plain": [
       "<IPython.core.display.HTML object>"
      ]
     },
     "metadata": {},
     "output_type": "display_data"
    },
    {
     "name": "stdout",
     "output_type": "stream",
     "text": [
      "None\n"
     ]
    },
    {
     "data": {
      "text/html": [
       "<strong><a href=http://dx.doi.org/10.4253/wjge.v10.i12.392>Endoscopic evaluation of immunotherapy-induced gastrointestinal toxicity.</a></strong><br>2018. Iranzo I, Huguet JM, Suárez P, Ferrer-Barceló L, Iranzo V, Sempere J<br>[ID: 30631403]"
      ],
      "text/plain": [
       "<IPython.core.display.HTML object>"
      ]
     },
     "metadata": {},
     "output_type": "display_data"
    },
    {
     "name": "stdout",
     "output_type": "stream",
     "text": [
      "None\n"
     ]
    },
    {
     "data": {
      "text/html": [
       "<strong>[Progress in management of severe tuberculosis or tuberculosis with severe complication].</strong><br>2014. Kimura H, Imaizumi K<br>[ID: 24979949]"
      ],
      "text/plain": [
       "<IPython.core.display.HTML object>"
      ]
     },
     "metadata": {},
     "output_type": "display_data"
    },
    {
     "name": "stdout",
     "output_type": "stream",
     "text": [
      "None\n"
     ]
    },
    {
     "data": {
      "text/html": [
       "<strong><a href=http://dx.doi.org/10.1248/yakushi.123.613>[The analysis of prescription frequency and the factors on adverse reactions of NSAIDs for post-operative pain in orthopedic patients].</a></strong><br>2003. Ise Y, Murota Y, Takayama K, Narita M, Suzuki T, Soh S, Katayama S, Hirano M<br>[ID: 12875245]"
      ],
      "text/plain": [
       "<IPython.core.display.HTML object>"
      ]
     },
     "metadata": {},
     "output_type": "display_data"
    },
    {
     "name": "stdout",
     "output_type": "stream",
     "text": [
      "None\n"
     ]
    },
    {
     "data": {
      "text/html": [
       "<strong><a href=http://dx.doi.org/10.1007/s000110050735>Bidirectional communication between histamine and cytokines.</a></strong><br>2001. Igaz P, Novák I, Lázaár E, Horváth B, Héninger E, Falus A<br>[ID: 11339499]"
      ],
      "text/plain": [
       "<IPython.core.display.HTML object>"
      ]
     },
     "metadata": {},
     "output_type": "display_data"
    },
    {
     "name": "stdout",
     "output_type": "stream",
     "text": [
      "None\n"
     ]
    },
    {
     "data": {
      "text/html": [
       "<strong>[Case of interstitial cystitis accompanied by food allergy].</strong><br>2005. Ogawa H, Nakamura Y, Tokinaga K, Sakakura N, Yamashita M<br>[ID: 16229364]"
      ],
      "text/plain": [
       "<IPython.core.display.HTML object>"
      ]
     },
     "metadata": {},
     "output_type": "display_data"
    },
    {
     "name": "stdout",
     "output_type": "stream",
     "text": [
      "None\n"
     ]
    },
    {
     "data": {
      "text/html": [
       "<strong><a href=http://dx.doi.org/10.12968/bjcn.2009.14.Sup1.40106>Sorbion Sana: a non-adherent, highly absorbent, hypoallergenic dressing.</a></strong><br>2009. Beldon P<br>[ID: 19452663]"
      ],
      "text/plain": [
       "<IPython.core.display.HTML object>"
      ]
     },
     "metadata": {},
     "output_type": "display_data"
    },
    {
     "name": "stdout",
     "output_type": "stream",
     "text": [
      "None\n"
     ]
    }
   ],
   "source": [
    "def or_query(s):\n",
    "    terms = preprocess(tokenize(s))\n",
    "    result = inverted_index[terms[0]]\n",
    "    for i in terms[1:]:\n",
    "        result = result.union(inverted_index[i])\n",
    "    return result\n",
    "\n",
    "q = or_query('rotterdam ulcer')\n",
    "\n",
    "print(\"The IDs of the documants are: \", q)\n",
    "for i in q:\n",
    "    print(display_summary(i))"
   ]
  },
  {
   "cell_type": "markdown",
   "metadata": {},
   "source": [
    "### Task 3\n",
    "\n",
    "Show how many hits the query \"to be or not to be\" returns for your two query functions (`and_query` and `or_query`)."
   ]
  },
  {
   "cell_type": "code",
   "execution_count": 12,
   "metadata": {},
   "outputs": [
    {
     "name": "stdout",
     "output_type": "stream",
     "text": [
      "Number of hits returned by and_query:  3536\n",
      "Number of hits returned by or_query:  44826\n"
     ]
    }
   ],
   "source": [
    "s = \"to be or not to be\"\n",
    "print(\"Number of hits returned by and_query: \", len(and_query(s)))\n",
    "print(\"Number of hits returned by or_query: \", len(or_query(s)))"
   ]
  },
  {
   "cell_type": "markdown",
   "metadata": {},
   "source": [
    "### Task 4\n",
    "\n",
    "Given the nature of our dataset, how many of the documents from task 3 do you think are actually about the [Shakespeare quote](https://en.wikipedia.org/wiki/To_be%2C_or_not_to_be)? What could you do to better handle such queries? (You don't have to implement this yet!)"
   ]
  },
  {
   "cell_type": "markdown",
   "metadata": {},
   "source": [
    "**Answer:** I think none of the documents are about Shakespeare quote because the data on which the query is performed was selected from the PubMed database of scientific publications containing the word \"allergy\". \n",
    "One way to better look up for the Shakespeare quote is using a positional query in the following way: first, extract the positions of each term in the quote per document; then, for every position i of \"to\", check if there is a \"be\" on position i+1 of the same document, followed by \"or\" on i+2, \"not\" on i+3, \"to\" on i+4 and \"be\" on i+5, using a nested for-loop and breaking each time the respective position is passed. This way, the query will only return the documents that contain the entire quote, instead of the ones that contain all the terms, separated or not and in every possible order."
   ]
  },
  {
   "cell_type": "markdown",
   "metadata": {},
   "source": [
    "### Task 5\n",
    "\n",
    "Why does `and_query('eosinophil signal inflammation')` not return our example paper 24037376, even though it mentions eosinophil, signal, and inflammation in the abstract? (You do not have to implement anything to fix this yet!)"
   ]
  },
  {
   "cell_type": "code",
   "execution_count": 13,
   "metadata": {},
   "outputs": [
    {
     "name": "stdout",
     "output_type": "stream",
     "text": [
      "{10477723, 28798252, 30680604}\n"
     ]
    },
    {
     "data": {
      "text/html": [
       "<strong><a href=http://dx.doi.org/10.1038/nature12526>Type 2 innate lymphoid cells control eosinophil homeostasis.</a></strong><br>2013. Nussbaum JC, Van Dyken SJ, von Moltke J, Cheng LE, Mohapatra A, Molofsky AB, Thornton EE, Krummel MF, Chawla A, Liang HE, Locksley RM<br><small><strong>Abstract:</strong> <em>Eosinophils are specialized myeloid cells associated with allergy and helminth infections. Blood eosinophils demonstrate circadian cycling, as described over 80 years ago, and are abundant in the healthy gastrointestinal tract. Although a cytokine, interleukin (IL)-5, and chemokines such as eotaxins mediate eosinophil development and survival, and tissue recruitment, respectively, the processes underlying the basal regulation of these signals remain unknown. Here we show that serum IL-5 levels are maintained by long-lived type 2 innate lymphoid cells (ILC2) resident in peripheral tissues. ILC2 cells secrete IL-5 constitutively and are induced to co-express IL-13 during type 2 inflammation, resulting in localized eotaxin production and eosinophil accumulation. In the small intestine where eosinophils and eotaxin are constitutive, ILC2 cells co-express IL-5 and IL-13; this co-expression is enhanced after caloric intake. The circadian synchronizer vasoactive intestinal peptide also stimulates ILC2 cells through the VPAC2 receptor to release IL-5, linking eosinophil levels with metabolic cycling. Tissue ILC2 cells regulate basal eosinophilopoiesis and tissue eosinophil accumulation through constitutive and stimulated cytokine expression, and this dissociated regulation can be tuned by nutrient intake and central circadian rhythms. </em></small><br>[ID: 24037376]"
      ],
      "text/plain": [
       "<IPython.core.display.HTML object>"
      ]
     },
     "metadata": {},
     "output_type": "display_data"
    },
    {
     "name": "stdout",
     "output_type": "stream",
     "text": [
      "None\n",
      "{24037376, 30680604}\n"
     ]
    }
   ],
   "source": [
    "print(and_query('eosinophil signal inflammation'))\n",
    "print(display_summary(24037376, show_abstract=True))\n",
    "print(and_query('eosinophil signals inflammation,'))"
   ]
  },
  {
   "cell_type": "markdown",
   "metadata": {},
   "source": [
    "**Answer:** The reasons why the paper is not returned are that the tokenization takes the comma into account ('inflammation' is followed by comma in the abstract, so the current tokenize method considers the term 'inflammation,')  and that there is no stemming technique applied to transform 'signals' into 'signal' (in other words, the text contains 'signals', but does not contain 'signal'). It can be seen above that, when the query string is 'eosinophil signals inflammation,' instead of 'eosinophil signal inflammation', the paper is returned."
   ]
  },
  {
   "cell_type": "markdown",
   "metadata": {},
   "source": [
    "# Submission"
   ]
  },
  {
   "cell_type": "markdown",
   "metadata": {},
   "source": [
    "Submit the answers to the assignment via Canvas as a modified version of this Notebook file (file with `.ipynb` extension) that includes your code and your answers.\n",
    "\n",
    "Before submitting, restart the kernel and re-run the complete code (**Kernel > Restart & Run All**), and then check whether your assignment code still works as expected.\n",
    "\n",
    "Don't forget to add your name, and remember that the assignments have to be done individually and group submissions are **not allowed**."
   ]
  }
 ],
 "metadata": {
  "kernelspec": {
   "display_name": "Python 3",
   "language": "python",
   "name": "python3"
  },
  "language_info": {
   "codemirror_mode": {
    "name": "ipython",
    "version": 3
   },
   "file_extension": ".py",
   "mimetype": "text/x-python",
   "name": "python",
   "nbconvert_exporter": "python",
   "pygments_lexer": "ipython3",
   "version": "3.7.3"
  }
 },
 "nbformat": 4,
 "nbformat_minor": 1
}
